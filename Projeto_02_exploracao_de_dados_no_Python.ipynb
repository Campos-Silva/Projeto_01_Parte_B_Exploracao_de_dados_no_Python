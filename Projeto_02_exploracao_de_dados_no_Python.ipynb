{
  "nbformat": 4,
  "nbformat_minor": 0,
  "metadata": {
    "colab": {
      "name": "Projeto_02_exploracao_de_dados_no_Python.ipynb",
      "provenance": [],
      "collapsed_sections": []
    },
    "kernelspec": {
      "name": "python3",
      "display_name": "Python 3"
    }
  },
  "cells": [
    {
      "cell_type": "markdown",
      "metadata": {
        "id": "UEC3NOc6SrPj"
      },
      "source": [
        "# Projeto 02 - Exploração de dados no Python "
      ]
    },
    {
      "cell_type": "markdown",
      "metadata": {
        "id": "tAeliozjS3wH"
      },
      "source": [
        "### Objetivos desse projeto:"
      ]
    },
    {
      "cell_type": "markdown",
      "metadata": {
        "id": "zxQIWFc1S-vG"
      },
      "source": [
        "- demonstrar como é realizada a exploração de dados no Python."
      ]
    },
    {
      "cell_type": "markdown",
      "metadata": {
        "id": "5KMbnuT5idDq"
      },
      "source": [
        "###Detalhamento do Dataset estudado"
      ]
    },
    {
      "cell_type": "markdown",
      "metadata": {
        "id": "MyqlSYHJjNQX"
      },
      "source": [
        "-  Para atingir esses objetivos irei trabalhar com um Dataset oriundo do site a seguir: https://www.kaggle.com/nehalbirla/vehicle-dataset-from-cardekho\n",
        "\n",
        "-  Esse dataset possui dados de carros alugados o qual permite fazer diversas análises em Data Science, inclusive criar modelos preditivos de machine learning, através de regressão linear.\n",
        "\n"
      ]
    },
    {
      "cell_type": "markdown",
      "metadata": {
        "id": "_av-ZGVuFWVL"
      },
      "source": [
        "### Perguntas centrais do Dataset:\n",
        "\n"
      ]
    },
    {
      "cell_type": "markdown",
      "metadata": {
        "id": "fJ-PU5ToHYP3"
      },
      "source": [
        "Nesse dataset podemos explorar as seguintes perguntas centrais:\n",
        "\n",
        "- O valor de preço de venda final desses carros usados está relacionada aos seus atributos?\n",
        "\n",
        "- Se sim, quais os atributos que irão influenciar nesse valor de preço?\n",
        "\n"
      ]
    },
    {
      "cell_type": "markdown",
      "metadata": {
        "id": "LKxUNsVYKp_x"
      },
      "source": [
        "##### - Essas outras etapas serão realizadas em um próximo projeto."
      ]
    },
    {
      "cell_type": "markdown",
      "metadata": {
        "id": "nw-Z_QgkSYmd"
      },
      "source": [
        "# Bibliotecas utilizadas nesse projeto:\n",
        "\n",
        "- pandas\n",
        "\n",
        "- numpy\n",
        "\n",
        "- seaborn\n",
        "\n",
        "- matplotlib"
      ]
    },
    {
      "cell_type": "markdown",
      "metadata": {
        "id": "MDRwGW8PpMsH"
      },
      "source": [
        "# Importação do dataset"
      ]
    },
    {
      "cell_type": "code",
      "metadata": {
        "id": "RZCb59Gto6RO"
      },
      "source": [
        "#Vou trabalhar com a biblioteca pandas para importar e explorar inicialmente o Dataset\n",
        "\n",
        "#Importando a biblioteca Pandas\n",
        "\n",
        "import pandas as pd"
      ],
      "execution_count": 2,
      "outputs": []
    },
    {
      "cell_type": "code",
      "metadata": {
        "id": "FUpOk2EO74B7"
      },
      "source": [
        "#Importando a biblioteca Numpy\n",
        "\n",
        "import numpy as np"
      ],
      "execution_count": 3,
      "outputs": []
    },
    {
      "cell_type": "code",
      "metadata": {
        "id": "IVIZEONJYD2j"
      },
      "source": [
        "# Importando a biblioteca Seaborn\n",
        "\n",
        "import seaborn as sns"
      ],
      "execution_count": 54,
      "outputs": []
    },
    {
      "cell_type": "code",
      "metadata": {
        "id": "QVpIdvJ0awPR"
      },
      "source": [
        "# Importando a biblioteca Matplotlib\n",
        "\n",
        "import matplotlib.pyplot as plt"
      ],
      "execution_count": 59,
      "outputs": []
    },
    {
      "cell_type": "code",
      "metadata": {
        "id": "sdFyRFfSjbbD"
      },
      "source": [
        "#Agora vou importar o meu conjunto de dados através dessa biblioteca\n",
        "\n",
        "carros = pd.read_csv(\"carros_formatado.csv\")"
      ],
      "execution_count": 4,
      "outputs": []
    },
    {
      "cell_type": "markdown",
      "metadata": {
        "id": "fEtPjJZzzDe5"
      },
      "source": [
        "Aqui irei começar a entender como está configurado o meu conjunto de dados."
      ]
    },
    {
      "cell_type": "code",
      "metadata": {
        "colab": {
          "base_uri": "https://localhost:8080/"
        },
        "id": "BaTt3Djwk0dK",
        "outputId": "bc297b9c-0b80-47a4-b459-fe5f34906224"
      },
      "source": [
        "#Vou identificar quantas linhas e colunas existem nesse conjunto de dados\n",
        "\n",
        "carros.shape"
      ],
      "execution_count": 5,
      "outputs": [
        {
          "output_type": "execute_result",
          "data": {
            "text/plain": [
              "(7819, 17)"
            ]
          },
          "metadata": {
            "tags": []
          },
          "execution_count": 5
        }
      ]
    },
    {
      "cell_type": "code",
      "metadata": {
        "id": "2lLLIGmNpRmb",
        "colab": {
          "base_uri": "https://localhost:8080/",
          "height": 299
        },
        "outputId": "a8f1305a-42d3-41df-de23-4174899834db"
      },
      "source": [
        "#Quero visualizar as 5 primeiras linhas para identificar quais são as variáveis que existem nesse dataset.\n",
        "\n",
        "carros.head(5)"
      ],
      "execution_count": 6,
      "outputs": [
        {
          "output_type": "execute_result",
          "data": {
            "text/html": [
              "<div>\n",
              "<style scoped>\n",
              "    .dataframe tbody tr th:only-of-type {\n",
              "        vertical-align: middle;\n",
              "    }\n",
              "\n",
              "    .dataframe tbody tr th {\n",
              "        vertical-align: top;\n",
              "    }\n",
              "\n",
              "    .dataframe thead th {\n",
              "        text-align: right;\n",
              "    }\n",
              "</style>\n",
              "<table border=\"1\" class=\"dataframe\">\n",
              "  <thead>\n",
              "    <tr style=\"text-align: right;\">\n",
              "      <th></th>\n",
              "      <th>nome_completo_do_carro</th>\n",
              "      <th>ano</th>\n",
              "      <th>preco_de_venda_USD</th>\n",
              "      <th>km_rodado</th>\n",
              "      <th>tipo_combustivel</th>\n",
              "      <th>tipo_do_vendedor</th>\n",
              "      <th>transmissao</th>\n",
              "      <th>dono</th>\n",
              "      <th>consumo_do_combustivel_kmpl</th>\n",
              "      <th>motor_CC</th>\n",
              "      <th>potencia_do_motor_bhp</th>\n",
              "      <th>assentos</th>\n",
              "      <th>preco_de_venda_USD_normalizado</th>\n",
              "      <th>consumo_do_combustivel_kmpl_normalizado</th>\n",
              "      <th>preco_de_venda_USD_binned</th>\n",
              "      <th>tipo_de_combustivel_Diesel</th>\n",
              "      <th>tipo_de_combustivel_Petrol</th>\n",
              "    </tr>\n",
              "  </thead>\n",
              "  <tbody>\n",
              "    <tr>\n",
              "      <th>0</th>\n",
              "      <td>Maruti Swift Dzire VDI</td>\n",
              "      <td>2014</td>\n",
              "      <td>6164.383562</td>\n",
              "      <td>145500</td>\n",
              "      <td>Diesel</td>\n",
              "      <td>Individual</td>\n",
              "      <td>Manual</td>\n",
              "      <td>First Owner</td>\n",
              "      <td>23.40</td>\n",
              "      <td>1248.0</td>\n",
              "      <td>74.00</td>\n",
              "      <td>5.0</td>\n",
              "      <td>-0.249661</td>\n",
              "      <td>1.001961</td>\n",
              "      <td>Baixo</td>\n",
              "      <td>1</td>\n",
              "      <td>0</td>\n",
              "    </tr>\n",
              "    <tr>\n",
              "      <th>1</th>\n",
              "      <td>Skoda Rapid 1.5 TDI Ambition</td>\n",
              "      <td>2014</td>\n",
              "      <td>5068.493151</td>\n",
              "      <td>120000</td>\n",
              "      <td>Diesel</td>\n",
              "      <td>Individual</td>\n",
              "      <td>Manual</td>\n",
              "      <td>Second Owner</td>\n",
              "      <td>21.14</td>\n",
              "      <td>1498.0</td>\n",
              "      <td>103.52</td>\n",
              "      <td>5.0</td>\n",
              "      <td>-0.347573</td>\n",
              "      <td>0.437212</td>\n",
              "      <td>Baixo</td>\n",
              "      <td>1</td>\n",
              "      <td>0</td>\n",
              "    </tr>\n",
              "    <tr>\n",
              "      <th>2</th>\n",
              "      <td>Honda City 2017-2020 EXi</td>\n",
              "      <td>2006</td>\n",
              "      <td>2164.383562</td>\n",
              "      <td>140000</td>\n",
              "      <td>Petrol</td>\n",
              "      <td>Individual</td>\n",
              "      <td>Manual</td>\n",
              "      <td>Third Owner</td>\n",
              "      <td>17.70</td>\n",
              "      <td>1497.0</td>\n",
              "      <td>78.00</td>\n",
              "      <td>5.0</td>\n",
              "      <td>-0.607043</td>\n",
              "      <td>-0.422406</td>\n",
              "      <td>Baixo</td>\n",
              "      <td>0</td>\n",
              "      <td>1</td>\n",
              "    </tr>\n",
              "    <tr>\n",
              "      <th>3</th>\n",
              "      <td>Hyundai i20 Sportz Diesel</td>\n",
              "      <td>2010</td>\n",
              "      <td>3082.191781</td>\n",
              "      <td>127000</td>\n",
              "      <td>Diesel</td>\n",
              "      <td>Individual</td>\n",
              "      <td>Manual</td>\n",
              "      <td>First Owner</td>\n",
              "      <td>23.00</td>\n",
              "      <td>1396.0</td>\n",
              "      <td>90.00</td>\n",
              "      <td>5.0</td>\n",
              "      <td>-0.525040</td>\n",
              "      <td>0.902006</td>\n",
              "      <td>Baixo</td>\n",
              "      <td>1</td>\n",
              "      <td>0</td>\n",
              "    </tr>\n",
              "    <tr>\n",
              "      <th>4</th>\n",
              "      <td>Maruti Swift VXI BSIII</td>\n",
              "      <td>2007</td>\n",
              "      <td>1780.821918</td>\n",
              "      <td>120000</td>\n",
              "      <td>Petrol</td>\n",
              "      <td>Individual</td>\n",
              "      <td>Manual</td>\n",
              "      <td>First Owner</td>\n",
              "      <td>16.10</td>\n",
              "      <td>1298.0</td>\n",
              "      <td>88.20</td>\n",
              "      <td>5.0</td>\n",
              "      <td>-0.641312</td>\n",
              "      <td>-0.822228</td>\n",
              "      <td>Baixo</td>\n",
              "      <td>0</td>\n",
              "      <td>1</td>\n",
              "    </tr>\n",
              "  </tbody>\n",
              "</table>\n",
              "</div>"
            ],
            "text/plain": [
              "         nome_completo_do_carro  ...  tipo_de_combustivel_Petrol\n",
              "0        Maruti Swift Dzire VDI  ...                           0\n",
              "1  Skoda Rapid 1.5 TDI Ambition  ...                           0\n",
              "2      Honda City 2017-2020 EXi  ...                           1\n",
              "3     Hyundai i20 Sportz Diesel  ...                           0\n",
              "4        Maruti Swift VXI BSIII  ...                           1\n",
              "\n",
              "[5 rows x 17 columns]"
            ]
          },
          "metadata": {
            "tags": []
          },
          "execution_count": 6
        }
      ]
    },
    {
      "cell_type": "markdown",
      "metadata": {
        "id": "v10JxteZzlbg"
      },
      "source": [
        "Vou identificar quais são os tipos de dados para cada variável."
      ]
    },
    {
      "cell_type": "code",
      "metadata": {
        "colab": {
          "base_uri": "https://localhost:8080/"
        },
        "id": "PmSoS6Z2zplE",
        "outputId": "051077e6-8173-4056-cb1d-2af3ffc1a708"
      },
      "source": [
        "carros.dtypes"
      ],
      "execution_count": 7,
      "outputs": [
        {
          "output_type": "execute_result",
          "data": {
            "text/plain": [
              "nome_completo_do_carro                      object\n",
              "ano                                          int64\n",
              "preco_de_venda_USD                         float64\n",
              "km_rodado                                    int64\n",
              "tipo_combustivel                            object\n",
              "tipo_do_vendedor                            object\n",
              "transmissao                                 object\n",
              "dono                                        object\n",
              "consumo_do_combustivel_kmpl                float64\n",
              "motor_CC                                   float64\n",
              "potencia_do_motor_bhp                      float64\n",
              "assentos                                   float64\n",
              "preco_de_venda_USD_normalizado             float64\n",
              "consumo_do_combustivel_kmpl_normalizado    float64\n",
              "preco_de_venda_USD_binned                   object\n",
              "tipo_de_combustivel_Diesel                   int64\n",
              "tipo_de_combustivel_Petrol                   int64\n",
              "dtype: object"
            ]
          },
          "metadata": {
            "tags": []
          },
          "execution_count": 7
        }
      ]
    },
    {
      "cell_type": "markdown",
      "metadata": {
        "id": "i2qpcO3H1p71"
      },
      "source": [
        "## Resumo de estatísticas descritivas para o dataset\n",
        "\n",
        "- Informações para valores numéricos"
      ]
    },
    {
      "cell_type": "code",
      "metadata": {
        "colab": {
          "base_uri": "https://localhost:8080/",
          "height": 304
        },
        "id": "Fub2mP-B12bq",
        "outputId": "880e3b21-513d-4e72-85fa-5c69e9a647ad"
      },
      "source": [
        "carros.describe()"
      ],
      "execution_count": 8,
      "outputs": [
        {
          "output_type": "execute_result",
          "data": {
            "text/html": [
              "<div>\n",
              "<style scoped>\n",
              "    .dataframe tbody tr th:only-of-type {\n",
              "        vertical-align: middle;\n",
              "    }\n",
              "\n",
              "    .dataframe tbody tr th {\n",
              "        vertical-align: top;\n",
              "    }\n",
              "\n",
              "    .dataframe thead th {\n",
              "        text-align: right;\n",
              "    }\n",
              "</style>\n",
              "<table border=\"1\" class=\"dataframe\">\n",
              "  <thead>\n",
              "    <tr style=\"text-align: right;\">\n",
              "      <th></th>\n",
              "      <th>ano</th>\n",
              "      <th>preco_de_venda_USD</th>\n",
              "      <th>km_rodado</th>\n",
              "      <th>consumo_do_combustivel_kmpl</th>\n",
              "      <th>motor_CC</th>\n",
              "      <th>potencia_do_motor_bhp</th>\n",
              "      <th>assentos</th>\n",
              "      <th>preco_de_venda_USD_normalizado</th>\n",
              "      <th>consumo_do_combustivel_kmpl_normalizado</th>\n",
              "      <th>tipo_de_combustivel_Diesel</th>\n",
              "      <th>tipo_de_combustivel_Petrol</th>\n",
              "    </tr>\n",
              "  </thead>\n",
              "  <tbody>\n",
              "    <tr>\n",
              "      <th>count</th>\n",
              "      <td>7819.000000</td>\n",
              "      <td>7819.000000</td>\n",
              "      <td>7.819000e+03</td>\n",
              "      <td>7819.000000</td>\n",
              "      <td>7819.000000</td>\n",
              "      <td>7819.000000</td>\n",
              "      <td>7819.000000</td>\n",
              "      <td>7.819000e+03</td>\n",
              "      <td>7.819000e+03</td>\n",
              "      <td>7819.000000</td>\n",
              "      <td>7819.000000</td>\n",
              "    </tr>\n",
              "    <tr>\n",
              "      <th>mean</th>\n",
              "      <td>2013.990280</td>\n",
              "      <td>8958.710132</td>\n",
              "      <td>6.912583e+04</td>\n",
              "      <td>19.390375</td>\n",
              "      <td>1463.090677</td>\n",
              "      <td>91.935226</td>\n",
              "      <td>5.421281</td>\n",
              "      <td>-4.618196e-15</td>\n",
              "      <td>6.888750e-15</td>\n",
              "      <td>0.549815</td>\n",
              "      <td>0.450185</td>\n",
              "    </tr>\n",
              "    <tr>\n",
              "      <th>std</th>\n",
              "      <td>3.865268</td>\n",
              "      <td>11192.505241</td>\n",
              "      <td>5.687384e+04</td>\n",
              "      <td>4.001777</td>\n",
              "      <td>504.655439</td>\n",
              "      <td>35.770104</td>\n",
              "      <td>0.962876</td>\n",
              "      <td>1.000000e+00</td>\n",
              "      <td>1.000000e+00</td>\n",
              "      <td>0.497544</td>\n",
              "      <td>0.497544</td>\n",
              "    </tr>\n",
              "    <tr>\n",
              "      <th>min</th>\n",
              "      <td>1994.000000</td>\n",
              "      <td>410.945205</td>\n",
              "      <td>1.000000e+03</td>\n",
              "      <td>0.000000</td>\n",
              "      <td>624.000000</td>\n",
              "      <td>34.200000</td>\n",
              "      <td>2.000000</td>\n",
              "      <td>-7.637043e-01</td>\n",
              "      <td>-4.845441e+00</td>\n",
              "      <td>0.000000</td>\n",
              "      <td>0.000000</td>\n",
              "    </tr>\n",
              "    <tr>\n",
              "      <th>25%</th>\n",
              "      <td>2012.000000</td>\n",
              "      <td>3698.630137</td>\n",
              "      <td>3.400000e+04</td>\n",
              "      <td>16.780000</td>\n",
              "      <td>1197.000000</td>\n",
              "      <td>69.000000</td>\n",
              "      <td>5.000000</td>\n",
              "      <td>-4.699645e-01</td>\n",
              "      <td>-6.523039e-01</td>\n",
              "      <td>0.000000</td>\n",
              "      <td>0.000000</td>\n",
              "    </tr>\n",
              "    <tr>\n",
              "      <th>50%</th>\n",
              "      <td>2015.000000</td>\n",
              "      <td>6232.876712</td>\n",
              "      <td>6.000000e+04</td>\n",
              "      <td>19.300000</td>\n",
              "      <td>1248.000000</td>\n",
              "      <td>82.400000</td>\n",
              "      <td>5.000000</td>\n",
              "      <td>-2.435410e-01</td>\n",
              "      <td>-2.258365e-02</td>\n",
              "      <td>1.000000</td>\n",
              "      <td>0.000000</td>\n",
              "    </tr>\n",
              "    <tr>\n",
              "      <th>75%</th>\n",
              "      <td>2017.000000</td>\n",
              "      <td>9520.547945</td>\n",
              "      <td>9.600000e+04</td>\n",
              "      <td>22.320000</td>\n",
              "      <td>1582.000000</td>\n",
              "      <td>102.000000</td>\n",
              "      <td>5.000000</td>\n",
              "      <td>5.019768e-02</td>\n",
              "      <td>7.320811e-01</td>\n",
              "      <td>1.000000</td>\n",
              "      <td>1.000000</td>\n",
              "    </tr>\n",
              "    <tr>\n",
              "      <th>max</th>\n",
              "      <td>2020.000000</td>\n",
              "      <td>136986.301370</td>\n",
              "      <td>2.360457e+06</td>\n",
              "      <td>42.000000</td>\n",
              "      <td>3604.000000</td>\n",
              "      <td>400.000000</td>\n",
              "      <td>14.000000</td>\n",
              "      <td>1.143869e+01</td>\n",
              "      <td>5.649897e+00</td>\n",
              "      <td>1.000000</td>\n",
              "      <td>1.000000</td>\n",
              "    </tr>\n",
              "  </tbody>\n",
              "</table>\n",
              "</div>"
            ],
            "text/plain": [
              "               ano  ...  tipo_de_combustivel_Petrol\n",
              "count  7819.000000  ...                 7819.000000\n",
              "mean   2013.990280  ...                    0.450185\n",
              "std       3.865268  ...                    0.497544\n",
              "min    1994.000000  ...                    0.000000\n",
              "25%    2012.000000  ...                    0.000000\n",
              "50%    2015.000000  ...                    0.000000\n",
              "75%    2017.000000  ...                    1.000000\n",
              "max    2020.000000  ...                    1.000000\n",
              "\n",
              "[8 rows x 11 columns]"
            ]
          },
          "metadata": {
            "tags": []
          },
          "execution_count": 8
        }
      ]
    },
    {
      "cell_type": "markdown",
      "metadata": {
        "id": "7JxRvseX2FBi"
      },
      "source": [
        "## Resumo de estatísticas descritivas para variáveis categórica - value_counts()"
      ]
    },
    {
      "cell_type": "code",
      "metadata": {
        "colab": {
          "base_uri": "https://localhost:8080/"
        },
        "id": "9kOSHQB6RaFw",
        "outputId": "9c847bb0-c773-4d0c-c4ef-a559f41920ef"
      },
      "source": [
        "#tipo_combustivel\n",
        "\n",
        "tipo_combustivel_counts=carros[\"tipo_combustivel\"].value_counts()\n",
        "\n",
        "tipo_combustivel_counts"
      ],
      "execution_count": 42,
      "outputs": [
        {
          "output_type": "execute_result",
          "data": {
            "text/plain": [
              "Diesel    4299\n",
              "Petrol    3520\n",
              "Name: tipo_combustivel, dtype: int64"
            ]
          },
          "metadata": {
            "tags": []
          },
          "execution_count": 42
        }
      ]
    },
    {
      "cell_type": "code",
      "metadata": {
        "colab": {
          "base_uri": "https://localhost:8080/"
        },
        "id": "vYq1IVa8WDzD",
        "outputId": "726fbf42-490e-40ad-d3a7-28d295debc41"
      },
      "source": [
        "#tipo_do_vendedor \n",
        "\n",
        "tipo_do_vendedor_counts=carros[\"tipo_do_vendedor\"].value_counts()\n",
        "\n",
        "tipo_do_vendedor_counts"
      ],
      "execution_count": 49,
      "outputs": [
        {
          "output_type": "execute_result",
          "data": {
            "text/plain": [
              "Individual          6477\n",
              "Dealer              1106\n",
              "Trustmark Dealer     236\n",
              "Name: tipo_do_vendedor, dtype: int64"
            ]
          },
          "metadata": {
            "tags": []
          },
          "execution_count": 49
        }
      ]
    },
    {
      "cell_type": "code",
      "metadata": {
        "colab": {
          "base_uri": "https://localhost:8080/"
        },
        "id": "rO6siX1xWoat",
        "outputId": "cbe9c701-4a7b-4140-fe35-7243ae1b47e6"
      },
      "source": [
        "#transmissao \n",
        "\n",
        "transmissao_counts=carros[\"transmissao\"].value_counts()\n",
        "\n",
        "transmissao_counts"
      ],
      "execution_count": 50,
      "outputs": [
        {
          "output_type": "execute_result",
          "data": {
            "text/plain": [
              "Manual       6778\n",
              "Automatic    1041\n",
              "Name: transmissao, dtype: int64"
            ]
          },
          "metadata": {
            "tags": []
          },
          "execution_count": 50
        }
      ]
    },
    {
      "cell_type": "code",
      "metadata": {
        "colab": {
          "base_uri": "https://localhost:8080/"
        },
        "id": "lMJb-9zxW2fk",
        "outputId": "692e53ea-ed2c-4c1c-9aa7-d0590d800b14"
      },
      "source": [
        "#dono\n",
        "\n",
        "dono_counts=carros[\"dono\"].value_counts()\n",
        "\n",
        "dono_counts"
      ],
      "execution_count": 52,
      "outputs": [
        {
          "output_type": "execute_result",
          "data": {
            "text/plain": [
              "First Owner             5165\n",
              "Second Owner            1988\n",
              "Third Owner              503\n",
              "Fourth & Above Owner     158\n",
              "Test Drive Car             5\n",
              "Name: dono, dtype: int64"
            ]
          },
          "metadata": {
            "tags": []
          },
          "execution_count": 52
        }
      ]
    },
    {
      "cell_type": "code",
      "metadata": {
        "colab": {
          "base_uri": "https://localhost:8080/"
        },
        "id": "3hJu8352Xixz",
        "outputId": "87bcfea2-2a71-43c6-91da-a5b5c2453b50"
      },
      "source": [
        "#preco_de_venda_USD_binned\n",
        "\n",
        "preco_de_venda_USD_binned_counts=carros[\"preco_de_venda_USD_binned\"].value_counts()\n",
        "\n",
        "preco_de_venda_USD_binned_counts"
      ],
      "execution_count": 53,
      "outputs": [
        {
          "output_type": "execute_result",
          "data": {
            "text/plain": [
              "Baixo    7641\n",
              "Médio     176\n",
              "Alto        2\n",
              "Name: preco_de_venda_USD_binned, dtype: int64"
            ]
          },
          "metadata": {
            "tags": []
          },
          "execution_count": 53
        }
      ]
    },
    {
      "cell_type": "code",
      "metadata": {
        "colab": {
          "base_uri": "https://localhost:8080/",
          "height": 312
        },
        "id": "ZESfXwS8ZeNl",
        "outputId": "b97786e4-3a2c-45a2-b270-37547fcfa53c"
      },
      "source": [
        "#Scatterplot\n",
        "\n",
        "#Preço de venda (y)    por  km_rodado (x) \n",
        "\n",
        "y=carros.preco_de_venda_USD\n",
        "\n",
        "x=carros.km_rodado\n",
        "\n",
        "plt.scatter(x,y)\n",
        "\n",
        "plt.title(\"Scatterplot do preço de venda (USD) por km rodado\")\n",
        "\n",
        "plt.xlabel(\"km rodado\")\n",
        "\n",
        "plt.ylabel(\"Preço de venda (USD)\")"
      ],
      "execution_count": 62,
      "outputs": [
        {
          "output_type": "execute_result",
          "data": {
            "text/plain": [
              "Text(0, 0.5, 'Preço de venda (USD)')"
            ]
          },
          "metadata": {
            "tags": []
          },
          "execution_count": 62
        },
        {
          "output_type": "display_data",
          "data": {
            "image/png": "[encoded data removed]",
            "text/plain": [
              "<Figure size 432x288 with 1 Axes>"
            ]
          },
          "metadata": {
            "tags": [],
            "needs_background": "light"
          }
        }
      ]
    },
    {
      "cell_type": "code",
      "metadata": {
        "id": "FBYe807WbcUg"
      },
      "source": [
        "#Scatterplot\n",
        "\n",
        "#Preço de venda (y)    por  km_rodado (x) \n",
        "\n",
        "y=carros.preco_de_venda_USD\n",
        "\n",
        "x=carros.km_rodado\n",
        "\n",
        "plt.scatter(x,y)\n",
        "\n",
        "plt.title(\"Scatterplot do preço de venda (USD) por km rodado\")\n",
        "\n",
        "plt.xlabel(\"km rodado\")\n",
        "\n",
        "plt.ylabel(\"Preço de venda (USD)\")"
      ],
      "execution_count": null,
      "outputs": []
    },
    {
      "cell_type": "code",
      "metadata": {
        "colab": {
          "base_uri": "https://localhost:8080/",
          "height": 313
        },
        "id": "HP8QGOFPbsJi",
        "outputId": "e1120f48-d352-491c-af07-cee4d30bc6ce"
      },
      "source": [
        "#Scatterplot\n",
        "\n",
        "#Preço de venda (y)    por  consumo_do_combustivel_kmpl (x) \n",
        "\n",
        "y=carros.preco_de_venda_USD\n",
        "\n",
        "x=carros.consumo_do_combustivel_kmpl\n",
        "\n",
        "plt.scatter(x,y)\n",
        "\n",
        "plt.title(\"Scatterplot do preço de venda (USD) por consumo_do_combustivel_kmpl\")\n",
        "\n",
        "plt.xlabel(\"consumo_do_combustivel_kmpl\")\n",
        "\n",
        "plt.ylabel(\"Preço de venda (USD)\")"
      ],
      "execution_count": 63,
      "outputs": [
        {
          "output_type": "execute_result",
          "data": {
            "text/plain": [
              "Text(0, 0.5, 'Preço de venda (USD)')"
            ]
          },
          "metadata": {
            "tags": []
          },
          "execution_count": 63
        },
        {
          "output_type": "display_data",
          "data": {
            "image/png": "[encoded data removed]",
            "text/plain": [
              "<Figure size 432x288 with 1 Axes>"
            ]
          },
          "metadata": {
            "tags": [],
            "needs_background": "light"
          }
        }
      ]
    },
    {
      "cell_type": "code",
      "metadata": {
        "colab": {
          "base_uri": "https://localhost:8080/",
          "height": 313
        },
        "id": "EabT4yu0b92a",
        "outputId": "a7c99d17-ff68-4716-bf5c-83ccbf256702"
      },
      "source": [
        "#Scatterplot\n",
        "\n",
        "#Preço de venda (y)    por  motor_CC (x) \n",
        "\n",
        "y=carros.preco_de_venda_USD\n",
        "\n",
        "x=carros.motor_CC\n",
        "\n",
        "plt.scatter(x,y)\n",
        "\n",
        "plt.title(\"Scatterplot do preço de venda (USD) por motor_CC\")\n",
        "\n",
        "plt.xlabel(\"motor_CC\")\n",
        "\n",
        "plt.ylabel(\"Preço de venda (USD)\")"
      ],
      "execution_count": 64,
      "outputs": [
        {
          "output_type": "execute_result",
          "data": {
            "text/plain": [
              "Text(0, 0.5, 'Preço de venda (USD)')"
            ]
          },
          "metadata": {
            "tags": []
          },
          "execution_count": 64
        },
        {
          "output_type": "display_data",
          "data": {
            "image/png": "[encoded data removed]",
            "text/plain": [
              "<Figure size 432x288 with 1 Axes>"
            ]
          },
          "metadata": {
            "tags": [],
            "needs_background": "light"
          }
        }
      ]
    },
    {
      "cell_type": "code",
      "metadata": {
        "colab": {
          "base_uri": "https://localhost:8080/",
          "height": 313
        },
        "id": "nMz6O34gcS2Z",
        "outputId": "b6201586-6cf7-4af5-d45f-873838d41873"
      },
      "source": [
        "#Scatterplot\n",
        "\n",
        "#Preço de venda (y)    potencia_do_motor_bhp (x) \n",
        "\n",
        "y=carros.preco_de_venda_USD\n",
        "\n",
        "x=carros.potencia_do_motor_bhp\n",
        "\n",
        "plt.scatter(x,y)\n",
        "\n",
        "plt.title(\"Scatterplot do preço de venda (USD) potencia_do_motor_bhp\")\n",
        "\n",
        "plt.xlabel(\"potencia_do_motor_bhp\")\n",
        "\n",
        "plt.ylabel(\"Preço de venda (USD)\")"
      ],
      "execution_count": 66,
      "outputs": [
        {
          "output_type": "execute_result",
          "data": {
            "text/plain": [
              "Text(0, 0.5, 'Preço de venda (USD)')"
            ]
          },
          "metadata": {
            "tags": []
          },
          "execution_count": 66
        },
        {
          "output_type": "display_data",
          "data": {
            "image/png": "[encoded data removed]",
            "text/plain": [
              "<Figure size 432x288 with 1 Axes>"
            ]
          },
          "metadata": {
            "tags": [],
            "needs_background": "light"
          }
        }
      ]
    },
    {
      "cell_type": "code",
      "metadata": {
        "colab": {
          "base_uri": "https://localhost:8080/",
          "height": 312
        },
        "id": "0tGfQjT2ctmC",
        "outputId": "d44697da-b5bd-44bb-f5a0-bef46d38425f"
      },
      "source": [
        "#Scatterplot\n",
        "\n",
        "#Preço de venda (y)    assentos (x) \n",
        "\n",
        "y=carros.preco_de_venda_USD\n",
        "\n",
        "x=carros.assentos\n",
        "\n",
        "plt.scatter(x,y)\n",
        "\n",
        "plt.title(\"Scatterplot do preço de venda (USD) assentos\")\n",
        "\n",
        "plt.xlabel(\"assentos\")\n",
        "\n",
        "plt.ylabel(\"Preço de venda (USD)\")"
      ],
      "execution_count": 67,
      "outputs": [
        {
          "output_type": "execute_result",
          "data": {
            "text/plain": [
              "Text(0, 0.5, 'Preço de venda (USD)')"
            ]
          },
          "metadata": {
            "tags": []
          },
          "execution_count": 67
        },
        {
          "output_type": "display_data",
          "data": {
            "image/png": "[encoded data removed]",
            "text/plain": [
              "<Figure size 432x288 with 1 Axes>"
            ]
          },
          "metadata": {
            "tags": [],
            "needs_background": "light"
          }
        }
      ]
    },
    {
      "cell_type": "code",
      "metadata": {
        "colab": {
          "base_uri": "https://localhost:8080/",
          "height": 297
        },
        "id": "7BVkePnSX2KR",
        "outputId": "e9db9e56-30f7-4d64-9a43-1cbb9e7a6035"
      },
      "source": [
        "#Boxplot de preço de venda por tipo de combustível \n",
        "\n",
        "sns.boxplot(x = \"tipo_combustivel\", y = \"preco_de_venda_USD\", data=carros)"
      ],
      "execution_count": 56,
      "outputs": [
        {
          "output_type": "execute_result",
          "data": {
            "text/plain": [
              "<matplotlib.axes._subplots.AxesSubplot at 0x7f481feed250>"
            ]
          },
          "metadata": {
            "tags": []
          },
          "execution_count": 56
        },
        {
          "output_type": "display_data",
          "data": {
            "image/png": "[encoded data removed]",
            "text/plain": [
              "<Figure size 432x288 with 1 Axes>"
            ]
          },
          "metadata": {
            "tags": [],
            "needs_background": "light"
          }
        }
      ]
    },
    {
      "cell_type": "code",
      "metadata": {
        "colab": {
          "base_uri": "https://localhost:8080/",
          "height": 297
        },
        "id": "pa9lVdusdREp",
        "outputId": "a5cb48cb-eeb8-4f44-e27f-243ee7bced41"
      },
      "source": [
        "# tipo_do_vendedor\n",
        "\n",
        "#Boxplot de preço de venda por tipo_do_vendedor\n",
        "\n",
        "sns.boxplot(x = \"tipo_do_vendedor\", y = \"preco_de_venda_USD\", data=carros)"
      ],
      "execution_count": 68,
      "outputs": [
        {
          "output_type": "execute_result",
          "data": {
            "text/plain": [
              "<matplotlib.axes._subplots.AxesSubplot at 0x7f481f6e5550>"
            ]
          },
          "metadata": {
            "tags": []
          },
          "execution_count": 68
        },
        {
          "output_type": "display_data",
          "data": {
            "image/png": "[encoded data removed]",
            "text/plain": [
              "<Figure size 432x288 with 1 Axes>"
            ]
          },
          "metadata": {
            "tags": [],
            "needs_background": "light"
          }
        }
      ]
    },
    {
      "cell_type": "code",
      "metadata": {
        "colab": {
          "base_uri": "https://localhost:8080/",
          "height": 296
        },
        "id": "8oVWPcxYd9Z4",
        "outputId": "5c855b50-fe15-48d9-f331-e07888fa1fc6"
      },
      "source": [
        "# transmissao \n",
        "\n",
        "#Boxplot de preço de venda por transmissao \n",
        "\n",
        "sns.boxplot(x = \"transmissao\", y = \"preco_de_venda_USD\", data=carros)"
      ],
      "execution_count": 69,
      "outputs": [
        {
          "output_type": "execute_result",
          "data": {
            "text/plain": [
              "<matplotlib.axes._subplots.AxesSubplot at 0x7f481f532490>"
            ]
          },
          "metadata": {
            "tags": []
          },
          "execution_count": 69
        },
        {
          "output_type": "display_data",
          "data": {
            "image/png": "[encoded data removed]",
            "text/plain": [
              "<Figure size 432x288 with 1 Axes>"
            ]
          },
          "metadata": {
            "tags": [],
            "needs_background": "light"
          }
        }
      ]
    },
    {
      "cell_type": "code",
      "metadata": {
        "colab": {
          "base_uri": "https://localhost:8080/",
          "height": 296
        },
        "id": "6oN5M8jleTT2",
        "outputId": "1ca97efa-1ecd-4d20-adfe-8393c7c8b909"
      },
      "source": [
        "# dono \n",
        "\n",
        "# Boxplot de preço de venda por dono \n",
        "\n",
        "sns.boxplot(x = \"dono\", y = \"preco_de_venda_USD\", data=carros)"
      ],
      "execution_count": 70,
      "outputs": [
        {
          "output_type": "execute_result",
          "data": {
            "text/plain": [
              "<matplotlib.axes._subplots.AxesSubplot at 0x7f481f443490>"
            ]
          },
          "metadata": {
            "tags": []
          },
          "execution_count": 70
        },
        {
          "output_type": "display_data",
          "data": {
            "image/png": "[encoded data removed]",
            "text/plain": [
              "<Figure size 432x288 with 1 Axes>"
            ]
          },
          "metadata": {
            "tags": [],
            "needs_background": "light"
          }
        }
      ]
    },
    {
      "cell_type": "markdown",
      "metadata": {
        "id": "HIpLDcXTh3CK"
      },
      "source": [
        "# Groupby()"
      ]
    },
    {
      "cell_type": "code",
      "metadata": {
        "colab": {
          "base_uri": "https://localhost:8080/",
          "height": 343
        },
        "id": "allt6R-_h7yf",
        "outputId": "a87bf88d-5b1e-47f3-8d97-751e85b2056e"
      },
      "source": [
        "carros_teste = carros[[\"transmissao\", \"dono\", \"preco_de_venda_USD\"]]\n",
        "\n",
        "carros_grp = carros_teste.groupby([\"transmissao\", \"dono\"], as_index=False).mean()\n",
        "\n",
        "carros_grp"
      ],
      "execution_count": 71,
      "outputs": [
        {
          "output_type": "execute_result",
          "data": {
            "text/html": [
              "<div>\n",
              "<style scoped>\n",
              "    .dataframe tbody tr th:only-of-type {\n",
              "        vertical-align: middle;\n",
              "    }\n",
              "\n",
              "    .dataframe tbody tr th {\n",
              "        vertical-align: top;\n",
              "    }\n",
              "\n",
              "    .dataframe thead th {\n",
              "        text-align: right;\n",
              "    }\n",
              "</style>\n",
              "<table border=\"1\" class=\"dataframe\">\n",
              "  <thead>\n",
              "    <tr style=\"text-align: right;\">\n",
              "      <th></th>\n",
              "      <th>transmissao</th>\n",
              "      <th>dono</th>\n",
              "      <th>preco_de_venda_USD</th>\n",
              "    </tr>\n",
              "  </thead>\n",
              "  <tbody>\n",
              "    <tr>\n",
              "      <th>0</th>\n",
              "      <td>Automatic</td>\n",
              "      <td>First Owner</td>\n",
              "      <td>27726.536298</td>\n",
              "    </tr>\n",
              "    <tr>\n",
              "      <th>1</th>\n",
              "      <td>Automatic</td>\n",
              "      <td>Fourth &amp; Above Owner</td>\n",
              "      <td>5917.808219</td>\n",
              "    </tr>\n",
              "    <tr>\n",
              "      <th>2</th>\n",
              "      <td>Automatic</td>\n",
              "      <td>Second Owner</td>\n",
              "      <td>13928.276646</td>\n",
              "    </tr>\n",
              "    <tr>\n",
              "      <th>3</th>\n",
              "      <td>Automatic</td>\n",
              "      <td>Test Drive Car</td>\n",
              "      <td>70784.246575</td>\n",
              "    </tr>\n",
              "    <tr>\n",
              "      <th>4</th>\n",
              "      <td>Automatic</td>\n",
              "      <td>Third Owner</td>\n",
              "      <td>9935.615753</td>\n",
              "    </tr>\n",
              "    <tr>\n",
              "      <th>5</th>\n",
              "      <td>Manual</td>\n",
              "      <td>First Owner</td>\n",
              "      <td>7386.514879</td>\n",
              "    </tr>\n",
              "    <tr>\n",
              "      <th>6</th>\n",
              "      <td>Manual</td>\n",
              "      <td>Fourth &amp; Above Owner</td>\n",
              "      <td>3092.149603</td>\n",
              "    </tr>\n",
              "    <tr>\n",
              "      <th>7</th>\n",
              "      <td>Manual</td>\n",
              "      <td>Second Owner</td>\n",
              "      <td>4977.319975</td>\n",
              "    </tr>\n",
              "    <tr>\n",
              "      <th>8</th>\n",
              "      <td>Manual</td>\n",
              "      <td>Test Drive Car</td>\n",
              "      <td>18493.150685</td>\n",
              "    </tr>\n",
              "    <tr>\n",
              "      <th>9</th>\n",
              "      <td>Manual</td>\n",
              "      <td>Third Owner</td>\n",
              "      <td>3795.300888</td>\n",
              "    </tr>\n",
              "  </tbody>\n",
              "</table>\n",
              "</div>"
            ],
            "text/plain": [
              "  transmissao                  dono  preco_de_venda_USD\n",
              "0   Automatic           First Owner        27726.536298\n",
              "1   Automatic  Fourth & Above Owner         5917.808219\n",
              "2   Automatic          Second Owner        13928.276646\n",
              "3   Automatic        Test Drive Car        70784.246575\n",
              "4   Automatic           Third Owner         9935.615753\n",
              "5      Manual           First Owner         7386.514879\n",
              "6      Manual  Fourth & Above Owner         3092.149603\n",
              "7      Manual          Second Owner         4977.319975\n",
              "8      Manual        Test Drive Car        18493.150685\n",
              "9      Manual           Third Owner         3795.300888"
            ]
          },
          "metadata": {
            "tags": []
          },
          "execution_count": 71
        }
      ]
    },
    {
      "cell_type": "markdown",
      "metadata": {
        "id": "BTEbl32ai20d"
      },
      "source": [
        "# Pandas method - Pivot()"
      ]
    },
    {
      "cell_type": "code",
      "metadata": {
        "colab": {
          "base_uri": "https://localhost:8080/",
          "height": 166
        },
        "id": "EAsaVjN2i_E8",
        "outputId": "f334dda5-1fde-47ee-c420-27e834abf321"
      },
      "source": [
        "carros_pivot = carros_grp.pivot(index = \"transmissao\", columns = \"dono\")\n",
        "\n",
        "carros_pivot"
      ],
      "execution_count": 73,
      "outputs": [
        {
          "output_type": "execute_result",
          "data": {
            "text/html": [
              "<div>\n",
              "<style scoped>\n",
              "    .dataframe tbody tr th:only-of-type {\n",
              "        vertical-align: middle;\n",
              "    }\n",
              "\n",
              "    .dataframe tbody tr th {\n",
              "        vertical-align: top;\n",
              "    }\n",
              "\n",
              "    .dataframe thead tr th {\n",
              "        text-align: left;\n",
              "    }\n",
              "\n",
              "    .dataframe thead tr:last-of-type th {\n",
              "        text-align: right;\n",
              "    }\n",
              "</style>\n",
              "<table border=\"1\" class=\"dataframe\">\n",
              "  <thead>\n",
              "    <tr>\n",
              "      <th></th>\n",
              "      <th colspan=\"5\" halign=\"left\">preco_de_venda_USD</th>\n",
              "    </tr>\n",
              "    <tr>\n",
              "      <th>dono</th>\n",
              "      <th>First Owner</th>\n",
              "      <th>Fourth &amp; Above Owner</th>\n",
              "      <th>Second Owner</th>\n",
              "      <th>Test Drive Car</th>\n",
              "      <th>Third Owner</th>\n",
              "    </tr>\n",
              "    <tr>\n",
              "      <th>transmissao</th>\n",
              "      <th></th>\n",
              "      <th></th>\n",
              "      <th></th>\n",
              "      <th></th>\n",
              "      <th></th>\n",
              "    </tr>\n",
              "  </thead>\n",
              "  <tbody>\n",
              "    <tr>\n",
              "      <th>Automatic</th>\n",
              "      <td>27726.536298</td>\n",
              "      <td>5917.808219</td>\n",
              "      <td>13928.276646</td>\n",
              "      <td>70784.246575</td>\n",
              "      <td>9935.615753</td>\n",
              "    </tr>\n",
              "    <tr>\n",
              "      <th>Manual</th>\n",
              "      <td>7386.514879</td>\n",
              "      <td>3092.149603</td>\n",
              "      <td>4977.319975</td>\n",
              "      <td>18493.150685</td>\n",
              "      <td>3795.300888</td>\n",
              "    </tr>\n",
              "  </tbody>\n",
              "</table>\n",
              "</div>"
            ],
            "text/plain": [
              "            preco_de_venda_USD                       ...                            \n",
              "dono               First Owner Fourth & Above Owner  ... Test Drive Car  Third Owner\n",
              "transmissao                                          ...                            \n",
              "Automatic         27726.536298          5917.808219  ...   70784.246575  9935.615753\n",
              "Manual             7386.514879          3092.149603  ...   18493.150685  3795.300888\n",
              "\n",
              "[2 rows x 5 columns]"
            ]
          },
          "metadata": {
            "tags": []
          },
          "execution_count": 73
        }
      ]
    },
    {
      "cell_type": "markdown",
      "metadata": {
        "id": "aXBI92ZwjdeL"
      },
      "source": [
        "# Heatmap"
      ]
    },
    {
      "cell_type": "code",
      "metadata": {
        "colab": {
          "base_uri": "https://localhost:8080/",
          "height": 269
        },
        "id": "9TMtM-wmjhXi",
        "outputId": "f24226f1-ab9a-43c8-c6ec-bad7e1baa413"
      },
      "source": [
        "plt.pcolor(carros_pivot, cmap=\"RdBu\")\n",
        "\n",
        "plt.colorbar()\n",
        "\n",
        "plt.show()"
      ],
      "execution_count": 74,
      "outputs": [
        {
          "output_type": "display_data",
          "data": {
            "image/png": "[encoded data removed]",
            "text/plain": [
              "<Figure size 432x288 with 2 Axes>"
            ]
          },
          "metadata": {
            "tags": [],
            "needs_background": "light"
          }
        }
      ]
    },
    {
      "cell_type": "markdown",
      "metadata": {
        "id": "g3m9xA6LjZWM"
      },
      "source": [
        "# ANOVA"
      ]
    },
    {
      "cell_type": "code",
      "metadata": {
        "colab": {
          "base_uri": "https://localhost:8080/"
        },
        "id": "cnTsq6oaqHx6",
        "outputId": "b0e92e65-9cff-469f-89f2-e850b09d41cc"
      },
      "source": [
        "# Preço de venda por tipo de combustível \n",
        "\n",
        "import scipy.stats as stats\n",
        "\n",
        "carros_anova = carros[[\"tipo_combustivel\", \"preco_de_venda_USD\"]]\n",
        "                      \n",
        "grouped_anova = carros_anova.groupby([\"tipo_combustivel\"])\n",
        "\n",
        "grouped_anova                      \n"
      ],
      "execution_count": 78,
      "outputs": [
        {
          "output_type": "execute_result",
          "data": {
            "text/plain": [
              "<pandas.core.groupby.generic.DataFrameGroupBy object at 0x7f481eec7950>"
            ]
          },
          "metadata": {
            "tags": []
          },
          "execution_count": 78
        }
      ]
    },
    {
      "cell_type": "code",
      "metadata": {
        "colab": {
          "base_uri": "https://localhost:8080/"
        },
        "id": "CGye3pd8rBca",
        "outputId": "4a2db7e5-bb46-4121-fe04-18e5955101a1"
      },
      "source": [
        "anova_results_1 = stats.f_oneway(grouped_anova.get_group(\"Diesel\") [\"preco_de_venda_USD\"]), (grouped_anova.get_group(\"Petrol\") [\"preco_de_venda_USD\"])\n",
        "\n",
        "anova_results_1"
      ],
      "execution_count": 80,
      "outputs": [
        {
          "output_type": "stream",
          "text": [
            "/usr/local/lib/python3.7/dist-packages/scipy/stats/stats.py:3347: RuntimeWarning: invalid value encountered in double_scalars\n",
            "  msb = ssbn / dfbn\n"
          ],
          "name": "stderr"
        },
        {
          "output_type": "execute_result",
          "data": {
            "text/plain": [
              "(F_onewayResult(statistic=nan, pvalue=nan), 2       2164.383562\n",
              " 4       1780.821918\n",
              " 5       6027.397260\n",
              " 6        616.438356\n",
              " 10      1260.273973\n",
              "            ...     \n",
              " 7809    5205.479452\n",
              " 7810    4931.506849\n",
              " 7811    1643.835616\n",
              " 7812    3561.643836\n",
              " 7814    4383.561644\n",
              " Name: preco_de_venda_USD, Length: 3520, dtype: float64)"
            ]
          },
          "metadata": {
            "tags": []
          },
          "execution_count": 80
        }
      ]
    },
    {
      "cell_type": "markdown",
      "metadata": {
        "id": "9ujsZmt2DI7u"
      },
      "source": [
        "#Autor:\n"
      ]
    },
    {
      "cell_type": "markdown",
      "metadata": {
        "id": "S4cqm1fuqRZE"
      },
      "source": [
        "### - Lucas Andrei Campos-Silva\n",
        "\n",
        "- link para meu portifólio de projetos em Data Science: https://github.com/Campos-Silva \n",
        "- e-mail para contato: andrei.10@hotmail.com\n",
        "- linkedIn: https://www.linkedin.com/in/lucas-andrei-campos-silva/\n",
        "\n",
        "\n"
      ]
    }
  ]
}