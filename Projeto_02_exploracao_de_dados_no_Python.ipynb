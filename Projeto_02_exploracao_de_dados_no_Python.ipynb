{
  "nbformat": 4,
  "nbformat_minor": 0,
  "metadata": {
    "colab": {
      "name": "Projeto_02_exploracao_de_dados_no_Python.ipynb",
      "provenance": [],
      "collapsed_sections": []
    },
    "kernelspec": {
      "name": "python3",
      "display_name": "Python 3"
    }
  },
  "cells": [
    {
      "cell_type": "markdown",
      "metadata": {
        "id": "UEC3NOc6SrPj"
      },
      "source": [
        "# Projeto 02 - Exploração de dados no Python "
      ]
    },
    {
      "cell_type": "markdown",
      "metadata": {
        "id": "tAeliozjS3wH"
      },
      "source": [
        "### Objetivos desse projeto:"
      ]
    },
    {
      "cell_type": "markdown",
      "metadata": {
        "id": "zxQIWFc1S-vG"
      },
      "source": [
        "- demonstrar como é realizada a exploração de dados através da linguagem Python."
      ]
    },
    {
      "cell_type": "markdown",
      "metadata": {
        "id": "5KMbnuT5idDq"
      },
      "source": [
        "###Detalhamento do Dataset estudado"
      ]
    },
    {
      "cell_type": "markdown",
      "metadata": {
        "id": "MyqlSYHJjNQX"
      },
      "source": [
        "- OBSERVAÇÃO: Esse projeto é uma continuação direta do \"Projeto-01-Importacao-e-limpeza-de-dados-no-Python\" que consta no meu repositório do Github (https://github.com/Campos-Silva/Projeto-01-Importacao-e-limpeza-de-dados-no-Python).\n",
        "\n",
        "- Portanto, irei lidar com os dados já previamente formatados oriundo do projeto anterior.\n",
        "\n",
        "\n",
        "- O Dataset usado para esse projeto 02 encontra-se na pasta raiz do repósitorio (https://github.com/Campos-Silva/Projeto_02_Exploracao_de_dados_no_Python).\n",
        "\n",
        "- Conforme mencionado previamente, esse dataset possui dados de carros usados, o qual nos permite fazer diversas análises em Data Science, inclusive criar modelos preditivos de machine learning, através de regressão linear.\n",
        "\n"
      ]
    },
    {
      "cell_type": "markdown",
      "metadata": {
        "id": "_av-ZGVuFWVL"
      },
      "source": [
        "### Perguntas centrais do Dataset:\n",
        "\n"
      ]
    },
    {
      "cell_type": "markdown",
      "metadata": {
        "id": "fJ-PU5ToHYP3"
      },
      "source": [
        "Nesse dataset podemos explorar as seguintes perguntas centrais:\n",
        "\n",
        "- O valor de preço de venda final desses carros usados está relacionada aos seus atributos?\n",
        "\n",
        "- Se sim, quais os atributos que irão influenciar nesse valor de preço?\n",
        "\n"
      ]
    },
    {
      "cell_type": "markdown",
      "metadata": {
        "id": "LKxUNsVYKp_x"
      },
      "source": [
        "##### - Essas outras etapas serão realizadas em um próximo projeto."
      ]
    },
    {
      "cell_type": "markdown",
      "metadata": {
        "id": "nw-Z_QgkSYmd"
      },
      "source": [
        "# Bibliotecas utilizadas nesse projeto:\n",
        "\n",
        "- pandas\n",
        "\n",
        "- numpy\n",
        "\n",
        "- seaborn\n",
        "\n",
        "- matplotlib"
      ]
    },
    {
      "cell_type": "markdown",
      "metadata": {
        "id": "MDRwGW8PpMsH"
      },
      "source": [
        "# Importação do dataset"
      ]
    },
    {
      "cell_type": "code",
      "metadata": {
        "id": "RZCb59Gto6RO"
      },
      "source": [
        "#Vou trabalhar com a biblioteca pandas para importar e explorar inicialmente o Dataset\n",
        "\n",
        "#Importando a biblioteca Pandas\n",
        "\n",
        "import pandas as pd"
      ],
      "execution_count": 413,
      "outputs": []
    },
    {
      "cell_type": "code",
      "metadata": {
        "id": "FUpOk2EO74B7"
      },
      "source": [
        "#Importando a biblioteca Numpy\n",
        "\n",
        "import numpy as np"
      ],
      "execution_count": 414,
      "outputs": []
    },
    {
      "cell_type": "code",
      "metadata": {
        "id": "IVIZEONJYD2j"
      },
      "source": [
        "# Importando a biblioteca Seaborn\n",
        "\n",
        "import seaborn as sns"
      ],
      "execution_count": 415,
      "outputs": []
    },
    {
      "cell_type": "code",
      "metadata": {
        "id": "QVpIdvJ0awPR"
      },
      "source": [
        "# Importando a biblioteca Matplotlib\n",
        "\n",
        "import matplotlib.pyplot as plt"
      ],
      "execution_count": 416,
      "outputs": []
    },
    {
      "cell_type": "code",
      "metadata": {
        "id": "sdFyRFfSjbbD"
      },
      "source": [
        "#Agora vou importar o meu conjunto de dados através dessa biblioteca\n",
        "\n",
        "carros = pd.read_csv(\"carros_formatado.csv\")"
      ],
      "execution_count": 417,
      "outputs": []
    },
    {
      "cell_type": "markdown",
      "metadata": {
        "id": "fEtPjJZzzDe5"
      },
      "source": [
        "Aqui irei começar a entender como está configurado o meu conjunto de dados."
      ]
    },
    {
      "cell_type": "code",
      "metadata": {
        "colab": {
          "base_uri": "https://localhost:8080/"
        },
        "id": "BaTt3Djwk0dK",
        "outputId": "5f5b9b1c-a461-40e2-e729-a6131ac40a86"
      },
      "source": [
        "#Vou identificar quantas linhas e colunas existem nesse conjunto de dados\n",
        "\n",
        "carros.shape"
      ],
      "execution_count": 418,
      "outputs": [
        {
          "output_type": "execute_result",
          "data": {
            "text/plain": [
              "(7819, 17)"
            ]
          },
          "metadata": {
            "tags": []
          },
          "execution_count": 418
        }
      ]
    },
    {
      "cell_type": "code",
      "metadata": {
        "id": "2lLLIGmNpRmb",
        "colab": {
          "base_uri": "https://localhost:8080/",
          "height": 307
        },
        "outputId": "3c4f69aa-e191-492e-e749-4da62254a942"
      },
      "source": [
        "#Quero visualizar as 5 primeiras linhas para identificar quais são as variáveis que existem nesse dataset.\n",
        "\n",
        "carros.head(5)"
      ],
      "execution_count": 419,
      "outputs": [
        {
          "output_type": "execute_result",
          "data": {
            "text/html": [
              "<div>\n",
              "<style scoped>\n",
              "    .dataframe tbody tr th:only-of-type {\n",
              "        vertical-align: middle;\n",
              "    }\n",
              "\n",
              "    .dataframe tbody tr th {\n",
              "        vertical-align: top;\n",
              "    }\n",
              "\n",
              "    .dataframe thead th {\n",
              "        text-align: right;\n",
              "    }\n",
              "</style>\n",
              "<table border=\"1\" class=\"dataframe\">\n",
              "  <thead>\n",
              "    <tr style=\"text-align: right;\">\n",
              "      <th></th>\n",
              "      <th>nome_completo_do_carro</th>\n",
              "      <th>ano</th>\n",
              "      <th>preco_de_venda_USD</th>\n",
              "      <th>km_rodado</th>\n",
              "      <th>tipo_combustivel</th>\n",
              "      <th>tipo_do_vendedor</th>\n",
              "      <th>transmissao</th>\n",
              "      <th>dono</th>\n",
              "      <th>consumo_do_combustivel_kmpl</th>\n",
              "      <th>motor_CC</th>\n",
              "      <th>potencia_do_motor_bhp</th>\n",
              "      <th>assentos</th>\n",
              "      <th>preco_de_venda_USD_normalizado</th>\n",
              "      <th>consumo_do_combustivel_kmpl_normalizado</th>\n",
              "      <th>preco_de_venda_USD_binned</th>\n",
              "      <th>tipo_de_combustivel_Diesel</th>\n",
              "      <th>tipo_de_combustivel_Petrol</th>\n",
              "    </tr>\n",
              "  </thead>\n",
              "  <tbody>\n",
              "    <tr>\n",
              "      <th>0</th>\n",
              "      <td>Maruti Swift Dzire VDI</td>\n",
              "      <td>2014</td>\n",
              "      <td>6164.383562</td>\n",
              "      <td>145500</td>\n",
              "      <td>Diesel</td>\n",
              "      <td>Individual</td>\n",
              "      <td>Manual</td>\n",
              "      <td>First Owner</td>\n",
              "      <td>23.40</td>\n",
              "      <td>1248.0</td>\n",
              "      <td>74.00</td>\n",
              "      <td>5.0</td>\n",
              "      <td>-0.249661</td>\n",
              "      <td>1.001961</td>\n",
              "      <td>Baixo</td>\n",
              "      <td>1</td>\n",
              "      <td>0</td>\n",
              "    </tr>\n",
              "    <tr>\n",
              "      <th>1</th>\n",
              "      <td>Skoda Rapid 1.5 TDI Ambition</td>\n",
              "      <td>2014</td>\n",
              "      <td>5068.493151</td>\n",
              "      <td>120000</td>\n",
              "      <td>Diesel</td>\n",
              "      <td>Individual</td>\n",
              "      <td>Manual</td>\n",
              "      <td>Second Owner</td>\n",
              "      <td>21.14</td>\n",
              "      <td>1498.0</td>\n",
              "      <td>103.52</td>\n",
              "      <td>5.0</td>\n",
              "      <td>-0.347573</td>\n",
              "      <td>0.437212</td>\n",
              "      <td>Baixo</td>\n",
              "      <td>1</td>\n",
              "      <td>0</td>\n",
              "    </tr>\n",
              "    <tr>\n",
              "      <th>2</th>\n",
              "      <td>Honda City 2017-2020 EXi</td>\n",
              "      <td>2006</td>\n",
              "      <td>2164.383562</td>\n",
              "      <td>140000</td>\n",
              "      <td>Petrol</td>\n",
              "      <td>Individual</td>\n",
              "      <td>Manual</td>\n",
              "      <td>Third Owner</td>\n",
              "      <td>17.70</td>\n",
              "      <td>1497.0</td>\n",
              "      <td>78.00</td>\n",
              "      <td>5.0</td>\n",
              "      <td>-0.607043</td>\n",
              "      <td>-0.422406</td>\n",
              "      <td>Baixo</td>\n",
              "      <td>0</td>\n",
              "      <td>1</td>\n",
              "    </tr>\n",
              "    <tr>\n",
              "      <th>3</th>\n",
              "      <td>Hyundai i20 Sportz Diesel</td>\n",
              "      <td>2010</td>\n",
              "      <td>3082.191781</td>\n",
              "      <td>127000</td>\n",
              "      <td>Diesel</td>\n",
              "      <td>Individual</td>\n",
              "      <td>Manual</td>\n",
              "      <td>First Owner</td>\n",
              "      <td>23.00</td>\n",
              "      <td>1396.0</td>\n",
              "      <td>90.00</td>\n",
              "      <td>5.0</td>\n",
              "      <td>-0.525040</td>\n",
              "      <td>0.902006</td>\n",
              "      <td>Baixo</td>\n",
              "      <td>1</td>\n",
              "      <td>0</td>\n",
              "    </tr>\n",
              "    <tr>\n",
              "      <th>4</th>\n",
              "      <td>Maruti Swift VXI BSIII</td>\n",
              "      <td>2007</td>\n",
              "      <td>1780.821918</td>\n",
              "      <td>120000</td>\n",
              "      <td>Petrol</td>\n",
              "      <td>Individual</td>\n",
              "      <td>Manual</td>\n",
              "      <td>First Owner</td>\n",
              "      <td>16.10</td>\n",
              "      <td>1298.0</td>\n",
              "      <td>88.20</td>\n",
              "      <td>5.0</td>\n",
              "      <td>-0.641312</td>\n",
              "      <td>-0.822228</td>\n",
              "      <td>Baixo</td>\n",
              "      <td>0</td>\n",
              "      <td>1</td>\n",
              "    </tr>\n",
              "  </tbody>\n",
              "</table>\n",
              "</div>"
            ],
            "text/plain": [
              "         nome_completo_do_carro  ...  tipo_de_combustivel_Petrol\n",
              "0        Maruti Swift Dzire VDI  ...                           0\n",
              "1  Skoda Rapid 1.5 TDI Ambition  ...                           0\n",
              "2      Honda City 2017-2020 EXi  ...                           1\n",
              "3     Hyundai i20 Sportz Diesel  ...                           0\n",
              "4        Maruti Swift VXI BSIII  ...                           1\n",
              "\n",
              "[5 rows x 17 columns]"
            ]
          },
          "metadata": {
            "tags": []
          },
          "execution_count": 419
        }
      ]
    },
    {
      "cell_type": "markdown",
      "metadata": {
        "id": "v10JxteZzlbg"
      },
      "source": [
        "Vou identificar quais são os tipos de dados para cada variável."
      ]
    },
    {
      "cell_type": "code",
      "metadata": {
        "colab": {
          "base_uri": "https://localhost:8080/"
        },
        "id": "PmSoS6Z2zplE",
        "outputId": "e1d7787d-43cc-4ea8-a5b1-01d541a91294"
      },
      "source": [
        "carros.dtypes"
      ],
      "execution_count": 420,
      "outputs": [
        {
          "output_type": "execute_result",
          "data": {
            "text/plain": [
              "nome_completo_do_carro                      object\n",
              "ano                                          int64\n",
              "preco_de_venda_USD                         float64\n",
              "km_rodado                                    int64\n",
              "tipo_combustivel                            object\n",
              "tipo_do_vendedor                            object\n",
              "transmissao                                 object\n",
              "dono                                        object\n",
              "consumo_do_combustivel_kmpl                float64\n",
              "motor_CC                                   float64\n",
              "potencia_do_motor_bhp                      float64\n",
              "assentos                                   float64\n",
              "preco_de_venda_USD_normalizado             float64\n",
              "consumo_do_combustivel_kmpl_normalizado    float64\n",
              "preco_de_venda_USD_binned                   object\n",
              "tipo_de_combustivel_Diesel                   int64\n",
              "tipo_de_combustivel_Petrol                   int64\n",
              "dtype: object"
            ]
          },
          "metadata": {
            "tags": []
          },
          "execution_count": 420
        }
      ]
    },
    {
      "cell_type": "markdown",
      "metadata": {
        "id": "i2qpcO3H1p71"
      },
      "source": [
        "## Resumo de estatísticas descritivas para o dataset\n",
        "\n",
        "- Informações para valores numéricos"
      ]
    },
    {
      "cell_type": "code",
      "metadata": {
        "colab": {
          "base_uri": "https://localhost:8080/",
          "height": 315
        },
        "id": "Fub2mP-B12bq",
        "outputId": "966092fe-c0b3-4da7-d8c1-96ae047869b7"
      },
      "source": [
        "carros.describe()"
      ],
      "execution_count": 421,
      "outputs": [
        {
          "output_type": "execute_result",
          "data": {
            "text/html": [
              "<div>\n",
              "<style scoped>\n",
              "    .dataframe tbody tr th:only-of-type {\n",
              "        vertical-align: middle;\n",
              "    }\n",
              "\n",
              "    .dataframe tbody tr th {\n",
              "        vertical-align: top;\n",
              "    }\n",
              "\n",
              "    .dataframe thead th {\n",
              "        text-align: right;\n",
              "    }\n",
              "</style>\n",
              "<table border=\"1\" class=\"dataframe\">\n",
              "  <thead>\n",
              "    <tr style=\"text-align: right;\">\n",
              "      <th></th>\n",
              "      <th>ano</th>\n",
              "      <th>preco_de_venda_USD</th>\n",
              "      <th>km_rodado</th>\n",
              "      <th>consumo_do_combustivel_kmpl</th>\n",
              "      <th>motor_CC</th>\n",
              "      <th>potencia_do_motor_bhp</th>\n",
              "      <th>assentos</th>\n",
              "      <th>preco_de_venda_USD_normalizado</th>\n",
              "      <th>consumo_do_combustivel_kmpl_normalizado</th>\n",
              "      <th>tipo_de_combustivel_Diesel</th>\n",
              "      <th>tipo_de_combustivel_Petrol</th>\n",
              "    </tr>\n",
              "  </thead>\n",
              "  <tbody>\n",
              "    <tr>\n",
              "      <th>count</th>\n",
              "      <td>7819.000000</td>\n",
              "      <td>7819.000000</td>\n",
              "      <td>7.819000e+03</td>\n",
              "      <td>7819.000000</td>\n",
              "      <td>7819.000000</td>\n",
              "      <td>7819.000000</td>\n",
              "      <td>7819.000000</td>\n",
              "      <td>7.819000e+03</td>\n",
              "      <td>7.819000e+03</td>\n",
              "      <td>7819.000000</td>\n",
              "      <td>7819.000000</td>\n",
              "    </tr>\n",
              "    <tr>\n",
              "      <th>mean</th>\n",
              "      <td>2013.990280</td>\n",
              "      <td>8958.710132</td>\n",
              "      <td>6.912583e+04</td>\n",
              "      <td>19.390375</td>\n",
              "      <td>1463.090677</td>\n",
              "      <td>91.935226</td>\n",
              "      <td>5.421281</td>\n",
              "      <td>-4.618196e-15</td>\n",
              "      <td>6.888750e-15</td>\n",
              "      <td>0.549815</td>\n",
              "      <td>0.450185</td>\n",
              "    </tr>\n",
              "    <tr>\n",
              "      <th>std</th>\n",
              "      <td>3.865268</td>\n",
              "      <td>11192.505241</td>\n",
              "      <td>5.687384e+04</td>\n",
              "      <td>4.001777</td>\n",
              "      <td>504.655439</td>\n",
              "      <td>35.770104</td>\n",
              "      <td>0.962876</td>\n",
              "      <td>1.000000e+00</td>\n",
              "      <td>1.000000e+00</td>\n",
              "      <td>0.497544</td>\n",
              "      <td>0.497544</td>\n",
              "    </tr>\n",
              "    <tr>\n",
              "      <th>min</th>\n",
              "      <td>1994.000000</td>\n",
              "      <td>410.945205</td>\n",
              "      <td>1.000000e+03</td>\n",
              "      <td>0.000000</td>\n",
              "      <td>624.000000</td>\n",
              "      <td>34.200000</td>\n",
              "      <td>2.000000</td>\n",
              "      <td>-7.637043e-01</td>\n",
              "      <td>-4.845441e+00</td>\n",
              "      <td>0.000000</td>\n",
              "      <td>0.000000</td>\n",
              "    </tr>\n",
              "    <tr>\n",
              "      <th>25%</th>\n",
              "      <td>2012.000000</td>\n",
              "      <td>3698.630137</td>\n",
              "      <td>3.400000e+04</td>\n",
              "      <td>16.780000</td>\n",
              "      <td>1197.000000</td>\n",
              "      <td>69.000000</td>\n",
              "      <td>5.000000</td>\n",
              "      <td>-4.699645e-01</td>\n",
              "      <td>-6.523039e-01</td>\n",
              "      <td>0.000000</td>\n",
              "      <td>0.000000</td>\n",
              "    </tr>\n",
              "    <tr>\n",
              "      <th>50%</th>\n",
              "      <td>2015.000000</td>\n",
              "      <td>6232.876712</td>\n",
              "      <td>6.000000e+04</td>\n",
              "      <td>19.300000</td>\n",
              "      <td>1248.000000</td>\n",
              "      <td>82.400000</td>\n",
              "      <td>5.000000</td>\n",
              "      <td>-2.435410e-01</td>\n",
              "      <td>-2.258365e-02</td>\n",
              "      <td>1.000000</td>\n",
              "      <td>0.000000</td>\n",
              "    </tr>\n",
              "    <tr>\n",
              "      <th>75%</th>\n",
              "      <td>2017.000000</td>\n",
              "      <td>9520.547945</td>\n",
              "      <td>9.600000e+04</td>\n",
              "      <td>22.320000</td>\n",
              "      <td>1582.000000</td>\n",
              "      <td>102.000000</td>\n",
              "      <td>5.000000</td>\n",
              "      <td>5.019768e-02</td>\n",
              "      <td>7.320811e-01</td>\n",
              "      <td>1.000000</td>\n",
              "      <td>1.000000</td>\n",
              "    </tr>\n",
              "    <tr>\n",
              "      <th>max</th>\n",
              "      <td>2020.000000</td>\n",
              "      <td>136986.301370</td>\n",
              "      <td>2.360457e+06</td>\n",
              "      <td>42.000000</td>\n",
              "      <td>3604.000000</td>\n",
              "      <td>400.000000</td>\n",
              "      <td>14.000000</td>\n",
              "      <td>1.143869e+01</td>\n",
              "      <td>5.649897e+00</td>\n",
              "      <td>1.000000</td>\n",
              "      <td>1.000000</td>\n",
              "    </tr>\n",
              "  </tbody>\n",
              "</table>\n",
              "</div>"
            ],
            "text/plain": [
              "               ano  ...  tipo_de_combustivel_Petrol\n",
              "count  7819.000000  ...                 7819.000000\n",
              "mean   2013.990280  ...                    0.450185\n",
              "std       3.865268  ...                    0.497544\n",
              "min    1994.000000  ...                    0.000000\n",
              "25%    2012.000000  ...                    0.000000\n",
              "50%    2015.000000  ...                    0.000000\n",
              "75%    2017.000000  ...                    1.000000\n",
              "max    2020.000000  ...                    1.000000\n",
              "\n",
              "[8 rows x 11 columns]"
            ]
          },
          "metadata": {
            "tags": []
          },
          "execution_count": 421
        }
      ]
    },
    {
      "cell_type": "markdown",
      "metadata": {
        "id": "BeMV9ZSCO9Dw"
      },
      "source": [
        "# Início da exploração dos dados:\n",
        "\n"
      ]
    },
    {
      "cell_type": "markdown",
      "metadata": {
        "id": "nJyhfparWWXr"
      },
      "source": [
        "# 1 - Análises exploratórias para as variáveis numéricas"
      ]
    },
    {
      "cell_type": "markdown",
      "metadata": {
        "id": "3wYsZNXsK7GK"
      },
      "source": [
        "###  -  Detectando e lidando com outliers"
      ]
    },
    {
      "cell_type": "markdown",
      "metadata": {
        "id": "rEgHn0ME-3Ff"
      },
      "source": [
        "- Outliers podem induzir a erros nos modelos. Assim, para esse projeto irei primeiro identificar e lidar com eles para as variáveis numéricas."
      ]
    },
    {
      "cell_type": "markdown",
      "metadata": {
        "id": "p6vi4ZfW_Auh"
      },
      "source": [
        "#### Variável numérica nº 1 - \"preco_de_venda_USD\""
      ]
    },
    {
      "cell_type": "code",
      "metadata": {
        "colab": {
          "base_uri": "https://localhost:8080/",
          "height": 312
        },
        "id": "-BqXzqK5_Ul2",
        "outputId": "51ccb716-e5d2-413a-97a6-88419565d08f"
      },
      "source": [
        "# Visualizando os dados através de boxplot\n",
        "\n",
        "sns.boxplot(x=carros.preco_de_venda_USD)"
      ],
      "execution_count": 423,
      "outputs": [
        {
          "output_type": "execute_result",
          "data": {
            "text/plain": [
              "<matplotlib.axes._subplots.AxesSubplot at 0x7f6e82ace610>"
            ]
          },
          "metadata": {
            "tags": []
          },
          "execution_count": 423
        },
        {
          "output_type": "display_data",
          "data": {
            "image/png": "[encoded data removed]",
            "text/plain": [
              "<Figure size 432x288 with 1 Axes>"
            ]
          },
          "metadata": {
            "tags": []
          }
        }
      ]
    },
    {
      "cell_type": "markdown",
      "metadata": {
        "id": "B089abvW_ikk"
      },
      "source": [
        "####Conclusão prévia:\n",
        "\n",
        "- Por meio desse gráfico é possível ver que há valores que se distanciam muito dos outros para essa variável. Esses valores podem ser considerados possivelmente outliers.\n",
        "\n",
        "- Há funções matemáticas que nos permitem identificar precisamente tais outliers, tal como o Score Z e o \"Interquartile range (IQR)\".\n",
        "\n",
        "- Como a proposta desse projeto_02 é demonstrar como fazemos uma análise de exploração de dados eu vou remover esses outliers a fim de demonstrar como realizamos tal tarefa. Irei fazer isso utilizando o Interquartile range (IQR).\n",
        "\n"
      ]
    },
    {
      "cell_type": "code",
      "metadata": {
        "id": "aDZhywhGC_wu"
      },
      "source": [
        "for x in ['preco_de_venda_USD']:\n",
        "    q75,q25 = np.percentile(carros.loc[:,x],[75,25])\n",
        "    intr_qr = q75-q25\n",
        " \n",
        "    max = q75+(1.5*intr_qr)\n",
        "    min = q25-(1.5*intr_qr)\n",
        " \n",
        "    carros.loc[carros[x] < min,x] = np.nan\n",
        "    carros.loc[carros[x] > max,x] = np.nan"
      ],
      "execution_count": 424,
      "outputs": []
    },
    {
      "cell_type": "code",
      "metadata": {
        "colab": {
          "base_uri": "https://localhost:8080/"
        },
        "id": "BsXvviNBC_w-",
        "outputId": "1cbfdddc-30b9-4d5f-a58c-aa91d278ce28"
      },
      "source": [
        "# Identificando quantos valores nulos há no dataset por categoria\n",
        "\n",
        "carros.isnull().sum()"
      ],
      "execution_count": 427,
      "outputs": [
        {
          "output_type": "execute_result",
          "data": {
            "text/plain": [
              "nome_completo_do_carro                     0\n",
              "ano                                        0\n",
              "preco_de_venda_USD                         0\n",
              "km_rodado                                  0\n",
              "tipo_combustivel                           0\n",
              "tipo_do_vendedor                           0\n",
              "transmissao                                0\n",
              "dono                                       0\n",
              "consumo_do_combustivel_kmpl                0\n",
              "motor_CC                                   0\n",
              "potencia_do_motor_bhp                      0\n",
              "assentos                                   0\n",
              "preco_de_venda_USD_normalizado             0\n",
              "consumo_do_combustivel_kmpl_normalizado    0\n",
              "preco_de_venda_USD_binned                  0\n",
              "tipo_de_combustivel_Diesel                 0\n",
              "tipo_de_combustivel_Petrol                 0\n",
              "dtype: int64"
            ]
          },
          "metadata": {
            "tags": []
          },
          "execution_count": 427
        }
      ]
    },
    {
      "cell_type": "code",
      "metadata": {
        "id": "EfFuRC9qC_w_"
      },
      "source": [
        "# Removendo as linhas que possuem valores nulos\n",
        "\n",
        "carros = carros.dropna(axis = 0)"
      ],
      "execution_count": 430,
      "outputs": []
    },
    {
      "cell_type": "code",
      "metadata": {
        "colab": {
          "base_uri": "https://localhost:8080/"
        },
        "id": "Xkq9t9c6C_w_",
        "outputId": "3688a116-4f3d-4b50-ae08-d2a7f3b665c8"
      },
      "source": [
        "#Identificando se há valores nulos por categorias\n",
        "\n",
        "carros.isnull().sum()"
      ],
      "execution_count": 431,
      "outputs": [
        {
          "output_type": "execute_result",
          "data": {
            "text/plain": [
              "nome_completo_do_carro                     0\n",
              "ano                                        0\n",
              "preco_de_venda_USD                         0\n",
              "km_rodado                                  0\n",
              "tipo_combustivel                           0\n",
              "tipo_do_vendedor                           0\n",
              "transmissao                                0\n",
              "dono                                       0\n",
              "consumo_do_combustivel_kmpl                0\n",
              "motor_CC                                   0\n",
              "potencia_do_motor_bhp                      0\n",
              "assentos                                   0\n",
              "preco_de_venda_USD_normalizado             0\n",
              "consumo_do_combustivel_kmpl_normalizado    0\n",
              "preco_de_venda_USD_binned                  0\n",
              "tipo_de_combustivel_Diesel                 0\n",
              "tipo_de_combustivel_Petrol                 0\n",
              "dtype: int64"
            ]
          },
          "metadata": {
            "tags": []
          },
          "execution_count": 431
        }
      ]
    },
    {
      "cell_type": "code",
      "metadata": {
        "colab": {
          "base_uri": "https://localhost:8080/",
          "height": 312
        },
        "id": "lewEi9-GHVVi",
        "outputId": "ee60aaae-f942-461d-ca9a-7112120b8f8e"
      },
      "source": [
        "#Revendo se há valores discrepantes\n",
        "\n",
        "sns.boxplot(x=carros.preco_de_venda_USD)"
      ],
      "execution_count": 432,
      "outputs": [
        {
          "output_type": "execute_result",
          "data": {
            "text/plain": [
              "<matplotlib.axes._subplots.AxesSubplot at 0x7f6e90ee1810>"
            ]
          },
          "metadata": {
            "tags": []
          },
          "execution_count": 432
        },
        {
          "output_type": "display_data",
          "data": {
            "image/png": "[encoded data removed]",
            "text/plain": [
              "<Figure size 432x288 with 1 Axes>"
            ]
          },
          "metadata": {
            "tags": []
          }
        }
      ]
    },
    {
      "cell_type": "code",
      "metadata": {
        "colab": {
          "base_uri": "https://localhost:8080/"
        },
        "id": "iJUcp7DqC_xA",
        "outputId": "f9b8704b-9c32-4990-94d1-e99875e945b1"
      },
      "source": [
        "carros.shape"
      ],
      "execution_count": 339,
      "outputs": [
        {
          "output_type": "execute_result",
          "data": {
            "text/plain": [
              "(7225, 17)"
            ]
          },
          "metadata": {
            "tags": []
          },
          "execution_count": 339
        }
      ]
    },
    {
      "cell_type": "markdown",
      "metadata": {
        "id": "hRDXN9t0QaH-"
      },
      "source": [
        "####Conclusão prévia:\n",
        "\n",
        "- Foi possível destacar que houve uma acentuada diminuição de valores discrepantes para essa variável. Vou prosseguir para as outras variáveis a fim de realizar a detecção de outliers."
      ]
    },
    {
      "cell_type": "markdown",
      "metadata": {
        "id": "NNi6Y1WMEd9v"
      },
      "source": [
        "#### Variável nº 2 - \"km_rodado\""
      ]
    },
    {
      "cell_type": "code",
      "metadata": {
        "colab": {
          "base_uri": "https://localhost:8080/",
          "height": 312
        },
        "id": "pkAODNB_L2PL",
        "outputId": "26dc7fc6-fbd7-4477-e2fb-4814e474d847"
      },
      "source": [
        "# Visualizando os dados através de boxplot\n",
        "\n",
        "sns.boxplot(x=carros.km_rodado)"
      ],
      "execution_count": 433,
      "outputs": [
        {
          "output_type": "execute_result",
          "data": {
            "text/plain": [
              "<matplotlib.axes._subplots.AxesSubplot at 0x7f6e8325ea10>"
            ]
          },
          "metadata": {
            "tags": []
          },
          "execution_count": 433
        },
        {
          "output_type": "display_data",
          "data": {
            "image/png": "[encoded data removed]",
            "text/plain": [
              "<Figure size 432x288 with 1 Axes>"
            ]
          },
          "metadata": {
            "tags": []
          }
        }
      ]
    },
    {
      "cell_type": "markdown",
      "metadata": {
        "id": "XGg-dIsQRJCd"
      },
      "source": [
        "####Conclusão prévia:\n",
        "\n",
        "- Por meio desse gráfico é possível ver que há valores que se distanciam muito dos outros para essa variável. Esses valores podem ser considerados possivelmente outliers.\n",
        "\n",
        "- Vou identificar e remover esses outliers utilizando o Interquartile range (IQR)."
      ]
    },
    {
      "cell_type": "code",
      "metadata": {
        "id": "d-QFnYOJEtm4"
      },
      "source": [
        "for x in ['km_rodado']:\n",
        "    q75,q25 = np.percentile(carros.loc[:,x],[75,25])\n",
        "    intr_qr = q75-q25\n",
        " \n",
        "    max = q75+(1.5*intr_qr)\n",
        "    min = q25-(1.5*intr_qr)\n",
        " \n",
        "    carros.loc[carros[x] < min,x] = np.nan\n",
        "    carros.loc[carros[x] > max,x] = np.nan"
      ],
      "execution_count": 434,
      "outputs": []
    },
    {
      "cell_type": "code",
      "metadata": {
        "colab": {
          "base_uri": "https://localhost:8080/"
        },
        "id": "KKS4igzkEtm5",
        "outputId": "a7d4583a-95e1-4ad7-f5f8-415c19ffaf0b"
      },
      "source": [
        "# Identificando quantos valores nulos há no dataset por categoria\n",
        "\n",
        "carros.isnull().sum()"
      ],
      "execution_count": 435,
      "outputs": [
        {
          "output_type": "execute_result",
          "data": {
            "text/plain": [
              "nome_completo_do_carro                       0\n",
              "ano                                          0\n",
              "preco_de_venda_USD                           0\n",
              "km_rodado                                  155\n",
              "tipo_combustivel                             0\n",
              "tipo_do_vendedor                             0\n",
              "transmissao                                  0\n",
              "dono                                         0\n",
              "consumo_do_combustivel_kmpl                  0\n",
              "motor_CC                                     0\n",
              "potencia_do_motor_bhp                        0\n",
              "assentos                                     0\n",
              "preco_de_venda_USD_normalizado               0\n",
              "consumo_do_combustivel_kmpl_normalizado      0\n",
              "preco_de_venda_USD_binned                    0\n",
              "tipo_de_combustivel_Diesel                   0\n",
              "tipo_de_combustivel_Petrol                   0\n",
              "dtype: int64"
            ]
          },
          "metadata": {
            "tags": []
          },
          "execution_count": 435
        }
      ]
    },
    {
      "cell_type": "code",
      "metadata": {
        "id": "2K4g5zAiEtm7"
      },
      "source": [
        "# Removendo as linhas que possuem valores nulos\n",
        "\n",
        "carros = carros.dropna(axis = 0)"
      ],
      "execution_count": 436,
      "outputs": []
    },
    {
      "cell_type": "code",
      "metadata": {
        "colab": {
          "base_uri": "https://localhost:8080/"
        },
        "id": "tvAeLnu0Etm7",
        "outputId": "54667240-5ec0-4552-a9a6-0968c5266b05"
      },
      "source": [
        "#Identificando se há valores nulos por categorias\n",
        "\n",
        "carros.isnull().sum()"
      ],
      "execution_count": 437,
      "outputs": [
        {
          "output_type": "execute_result",
          "data": {
            "text/plain": [
              "nome_completo_do_carro                     0\n",
              "ano                                        0\n",
              "preco_de_venda_USD                         0\n",
              "km_rodado                                  0\n",
              "tipo_combustivel                           0\n",
              "tipo_do_vendedor                           0\n",
              "transmissao                                0\n",
              "dono                                       0\n",
              "consumo_do_combustivel_kmpl                0\n",
              "motor_CC                                   0\n",
              "potencia_do_motor_bhp                      0\n",
              "assentos                                   0\n",
              "preco_de_venda_USD_normalizado             0\n",
              "consumo_do_combustivel_kmpl_normalizado    0\n",
              "preco_de_venda_USD_binned                  0\n",
              "tipo_de_combustivel_Diesel                 0\n",
              "tipo_de_combustivel_Petrol                 0\n",
              "dtype: int64"
            ]
          },
          "metadata": {
            "tags": []
          },
          "execution_count": 437
        }
      ]
    },
    {
      "cell_type": "code",
      "metadata": {
        "colab": {
          "base_uri": "https://localhost:8080/",
          "height": 312
        },
        "id": "LOV2LPMCHbk8",
        "outputId": "460a6cf6-4c38-42bf-fffe-c2c95e164160"
      },
      "source": [
        "#Revendo se há valores discrepantes\n",
        "\n",
        "sns.boxplot(x=carros.km_rodado)"
      ],
      "execution_count": 438,
      "outputs": [
        {
          "output_type": "execute_result",
          "data": {
            "text/plain": [
              "<matplotlib.axes._subplots.AxesSubplot at 0x7f6e84c1d5d0>"
            ]
          },
          "metadata": {
            "tags": []
          },
          "execution_count": 438
        },
        {
          "output_type": "display_data",
          "data": {
            "image/png": "[encoded data removed]",
            "text/plain": [
              "<Figure size 432x288 with 1 Axes>"
            ]
          },
          "metadata": {
            "tags": []
          }
        }
      ]
    },
    {
      "cell_type": "code",
      "metadata": {
        "colab": {
          "base_uri": "https://localhost:8080/"
        },
        "id": "70AXrRi3H9-P",
        "outputId": "5d484386-ce10-4248-f68b-3d264784daa7"
      },
      "source": [
        "carros.shape"
      ],
      "execution_count": 345,
      "outputs": [
        {
          "output_type": "execute_result",
          "data": {
            "text/plain": [
              "(7070, 17)"
            ]
          },
          "metadata": {
            "tags": []
          },
          "execution_count": 345
        }
      ]
    },
    {
      "cell_type": "markdown",
      "metadata": {
        "id": "qZYqKNXyR8Ii"
      },
      "source": [
        "####Conclusão prévia:\n",
        "\n",
        "- Houve uma acentuada diminuição de valores discrepantes para essa variável. Vou prosseguir para as outras variáveis a fim de realizar a detecção de outliers."
      ]
    },
    {
      "cell_type": "markdown",
      "metadata": {
        "id": "7OdEYMasE86P"
      },
      "source": [
        "#### Variável nº 3 - \"consumo_do_combustivel_kmpl\""
      ]
    },
    {
      "cell_type": "code",
      "metadata": {
        "colab": {
          "base_uri": "https://localhost:8080/",
          "height": 312
        },
        "id": "YmZFxpz_MA1k",
        "outputId": "736d1303-cac3-4eec-ea40-32c9b1ad0e17"
      },
      "source": [
        "# Visualizando os dados através de boxplot\n",
        "\n",
        "sns.boxplot(x=carros.consumo_do_combustivel_kmpl)"
      ],
      "execution_count": 439,
      "outputs": [
        {
          "output_type": "execute_result",
          "data": {
            "text/plain": [
              "<matplotlib.axes._subplots.AxesSubplot at 0x7f6e84d4b850>"
            ]
          },
          "metadata": {
            "tags": []
          },
          "execution_count": 439
        },
        {
          "output_type": "display_data",
          "data": {
            "image/png": "[encoded data removed]",
            "text/plain": [
              "<Figure size 432x288 with 1 Axes>"
            ]
          },
          "metadata": {
            "tags": []
          }
        }
      ]
    },
    {
      "cell_type": "markdown",
      "metadata": {
        "id": "AGOdFX68SdZl"
      },
      "source": [
        "####Conclusão prévia:\n",
        "\n",
        "- Por meio desse gráfico é possível ver que há valores que se distanciam muito dos outros para essa variável. Esses valores podem ser considerados possivelmente outliers.\n",
        "\n",
        "- Vou identificar e remover esses outliers utilizando o Interquartile range (IQR)."
      ]
    },
    {
      "cell_type": "code",
      "metadata": {
        "id": "CDq2q2voFBge"
      },
      "source": [
        "for x in ['consumo_do_combustivel_kmpl']:\n",
        "    q75,q25 = np.percentile(carros.loc[:,x],[75,25])\n",
        "    intr_qr = q75-q25\n",
        " \n",
        "    max = q75+(1.5*intr_qr)\n",
        "    min = q25-(1.5*intr_qr)\n",
        " \n",
        "    carros.loc[carros[x] < min,x] = np.nan\n",
        "    carros.loc[carros[x] > max,x] = np.nan"
      ],
      "execution_count": 440,
      "outputs": []
    },
    {
      "cell_type": "code",
      "metadata": {
        "colab": {
          "base_uri": "https://localhost:8080/"
        },
        "id": "TdpUIMMZFBgf",
        "outputId": "b5a62a21-1db0-44c6-ef03-52facfbb4d43"
      },
      "source": [
        "# Identificando quantos valores nulos há no dataset por categoria\n",
        "\n",
        "carros.isnull().sum()"
      ],
      "execution_count": 441,
      "outputs": [
        {
          "output_type": "execute_result",
          "data": {
            "text/plain": [
              "nome_completo_do_carro                      0\n",
              "ano                                         0\n",
              "preco_de_venda_USD                          0\n",
              "km_rodado                                   0\n",
              "tipo_combustivel                            0\n",
              "tipo_do_vendedor                            0\n",
              "transmissao                                 0\n",
              "dono                                        0\n",
              "consumo_do_combustivel_kmpl                13\n",
              "motor_CC                                    0\n",
              "potencia_do_motor_bhp                       0\n",
              "assentos                                    0\n",
              "preco_de_venda_USD_normalizado              0\n",
              "consumo_do_combustivel_kmpl_normalizado     0\n",
              "preco_de_venda_USD_binned                   0\n",
              "tipo_de_combustivel_Diesel                  0\n",
              "tipo_de_combustivel_Petrol                  0\n",
              "dtype: int64"
            ]
          },
          "metadata": {
            "tags": []
          },
          "execution_count": 441
        }
      ]
    },
    {
      "cell_type": "code",
      "metadata": {
        "id": "Z8yvIoh6FBgf"
      },
      "source": [
        "# Removendo as linhas que possuem valores nulos\n",
        "\n",
        "carros = carros.dropna(axis = 0)"
      ],
      "execution_count": 442,
      "outputs": []
    },
    {
      "cell_type": "code",
      "metadata": {
        "colab": {
          "base_uri": "https://localhost:8080/"
        },
        "id": "_C-CKG5EFBgg",
        "outputId": "03b0a7c5-13f0-402e-bc90-d202d2eb3083"
      },
      "source": [
        "#Identificando se há valores nulos por categorias\n",
        "\n",
        "carros.isnull().sum()"
      ],
      "execution_count": 443,
      "outputs": [
        {
          "output_type": "execute_result",
          "data": {
            "text/plain": [
              "nome_completo_do_carro                     0\n",
              "ano                                        0\n",
              "preco_de_venda_USD                         0\n",
              "km_rodado                                  0\n",
              "tipo_combustivel                           0\n",
              "tipo_do_vendedor                           0\n",
              "transmissao                                0\n",
              "dono                                       0\n",
              "consumo_do_combustivel_kmpl                0\n",
              "motor_CC                                   0\n",
              "potencia_do_motor_bhp                      0\n",
              "assentos                                   0\n",
              "preco_de_venda_USD_normalizado             0\n",
              "consumo_do_combustivel_kmpl_normalizado    0\n",
              "preco_de_venda_USD_binned                  0\n",
              "tipo_de_combustivel_Diesel                 0\n",
              "tipo_de_combustivel_Petrol                 0\n",
              "dtype: int64"
            ]
          },
          "metadata": {
            "tags": []
          },
          "execution_count": 443
        }
      ]
    },
    {
      "cell_type": "code",
      "metadata": {
        "colab": {
          "base_uri": "https://localhost:8080/",
          "height": 312
        },
        "id": "4KZP9051HiwK",
        "outputId": "c00b7eca-ec73-4266-91cb-1b509814b221"
      },
      "source": [
        "#Revendo se há valores discrepantes\n",
        "\n",
        "sns.boxplot(x=carros.consumo_do_combustivel_kmpl)"
      ],
      "execution_count": 444,
      "outputs": [
        {
          "output_type": "execute_result",
          "data": {
            "text/plain": [
              "<matplotlib.axes._subplots.AxesSubplot at 0x7f6e84cc9650>"
            ]
          },
          "metadata": {
            "tags": []
          },
          "execution_count": 444
        },
        {
          "output_type": "display_data",
          "data": {
            "image/png": "[encoded data removed]",
            "text/plain": [
              "<Figure size 432x288 with 1 Axes>"
            ]
          },
          "metadata": {
            "tags": []
          }
        }
      ]
    },
    {
      "cell_type": "code",
      "metadata": {
        "colab": {
          "base_uri": "https://localhost:8080/"
        },
        "id": "c6sAHN-mEtm8",
        "outputId": "96466ec5-7a3e-499f-fbf7-b5feb7bd1e31"
      },
      "source": [
        "carros.shape"
      ],
      "execution_count": 351,
      "outputs": [
        {
          "output_type": "execute_result",
          "data": {
            "text/plain": [
              "(7057, 17)"
            ]
          },
          "metadata": {
            "tags": []
          },
          "execution_count": 351
        }
      ]
    },
    {
      "cell_type": "markdown",
      "metadata": {
        "id": "Lj7yuQJbTFfD"
      },
      "source": [
        "####Conclusão prévia:\n",
        "\n",
        "- Não há valores discrepantes para essa variável. Vou prosseguir para as outras variáveis a fim de realizar a detecção de outliers."
      ]
    },
    {
      "cell_type": "markdown",
      "metadata": {
        "id": "41kq4MEVFR0F"
      },
      "source": [
        "#### Variável nº 4 - \"motor_CC\" "
      ]
    },
    {
      "cell_type": "code",
      "metadata": {
        "colab": {
          "base_uri": "https://localhost:8080/",
          "height": 312
        },
        "id": "Ff1ck7fLMFoJ",
        "outputId": "67551a16-e90b-4fdb-889a-f596ae982650"
      },
      "source": [
        "# Visualizando os dados através de boxplot\n",
        "\n",
        "sns.boxplot(x=carros.motor_CC)"
      ],
      "execution_count": 445,
      "outputs": [
        {
          "output_type": "execute_result",
          "data": {
            "text/plain": [
              "<matplotlib.axes._subplots.AxesSubplot at 0x7f6e84cabad0>"
            ]
          },
          "metadata": {
            "tags": []
          },
          "execution_count": 445
        },
        {
          "output_type": "display_data",
          "data": {
            "image/png": "[encoded data removed]",
            "text/plain": [
              "<Figure size 432x288 with 1 Axes>"
            ]
          },
          "metadata": {
            "tags": []
          }
        }
      ]
    },
    {
      "cell_type": "markdown",
      "metadata": {
        "id": "-Fom4fsITZXw"
      },
      "source": [
        "####Conclusão prévia:\n",
        "\n",
        "- Por meio desse gráfico é possível ver que há valores que se distanciam muito dos outros para essa variável. Esses valores podem ser considerados possivelmente outliers.\n",
        "\n",
        "- Vou identificar e remover esses outliers utilizando o Interquartile range (IQR)."
      ]
    },
    {
      "cell_type": "code",
      "metadata": {
        "id": "ZRZm7OxcFXSk"
      },
      "source": [
        "for x in ['motor_CC']:\n",
        "    q75,q25 = np.percentile(carros.loc[:,x],[75,25])\n",
        "    intr_qr = q75-q25\n",
        " \n",
        "    max = q75+(1.5*intr_qr)\n",
        "    min = q25-(1.5*intr_qr)\n",
        " \n",
        "    carros.loc[carros[x] < min,x] = np.nan\n",
        "    carros.loc[carros[x] > max,x] = np.nan"
      ],
      "execution_count": 446,
      "outputs": []
    },
    {
      "cell_type": "code",
      "metadata": {
        "colab": {
          "base_uri": "https://localhost:8080/"
        },
        "id": "F8FT-_R7FXSm",
        "outputId": "74b14f4f-3091-4b9f-ac2b-1540df06a976"
      },
      "source": [
        "# Identificando quantos valores nulos há no dataset por categoria\n",
        "\n",
        "carros.isnull().sum()"
      ],
      "execution_count": 447,
      "outputs": [
        {
          "output_type": "execute_result",
          "data": {
            "text/plain": [
              "nome_completo_do_carro                       0\n",
              "ano                                          0\n",
              "preco_de_venda_USD                           0\n",
              "km_rodado                                    0\n",
              "tipo_combustivel                             0\n",
              "tipo_do_vendedor                             0\n",
              "transmissao                                  0\n",
              "dono                                         0\n",
              "consumo_do_combustivel_kmpl                  0\n",
              "motor_CC                                   981\n",
              "potencia_do_motor_bhp                        0\n",
              "assentos                                     0\n",
              "preco_de_venda_USD_normalizado               0\n",
              "consumo_do_combustivel_kmpl_normalizado      0\n",
              "preco_de_venda_USD_binned                    0\n",
              "tipo_de_combustivel_Diesel                   0\n",
              "tipo_de_combustivel_Petrol                   0\n",
              "dtype: int64"
            ]
          },
          "metadata": {
            "tags": []
          },
          "execution_count": 447
        }
      ]
    },
    {
      "cell_type": "code",
      "metadata": {
        "id": "XIru5iDPFXSn"
      },
      "source": [
        "# Removendo as linhas que possuem valores nulos\n",
        "\n",
        "carros = carros.dropna(axis = 0)"
      ],
      "execution_count": 448,
      "outputs": []
    },
    {
      "cell_type": "code",
      "metadata": {
        "colab": {
          "base_uri": "https://localhost:8080/"
        },
        "id": "Vyons1VRFXSo",
        "outputId": "a639978b-d55a-48d6-afc4-643f919df06c"
      },
      "source": [
        "#Identificando se há valores nulos por categorias\n",
        "\n",
        "carros.isnull().sum()"
      ],
      "execution_count": 449,
      "outputs": [
        {
          "output_type": "execute_result",
          "data": {
            "text/plain": [
              "nome_completo_do_carro                     0\n",
              "ano                                        0\n",
              "preco_de_venda_USD                         0\n",
              "km_rodado                                  0\n",
              "tipo_combustivel                           0\n",
              "tipo_do_vendedor                           0\n",
              "transmissao                                0\n",
              "dono                                       0\n",
              "consumo_do_combustivel_kmpl                0\n",
              "motor_CC                                   0\n",
              "potencia_do_motor_bhp                      0\n",
              "assentos                                   0\n",
              "preco_de_venda_USD_normalizado             0\n",
              "consumo_do_combustivel_kmpl_normalizado    0\n",
              "preco_de_venda_USD_binned                  0\n",
              "tipo_de_combustivel_Diesel                 0\n",
              "tipo_de_combustivel_Petrol                 0\n",
              "dtype: int64"
            ]
          },
          "metadata": {
            "tags": []
          },
          "execution_count": 449
        }
      ]
    },
    {
      "cell_type": "code",
      "metadata": {
        "colab": {
          "base_uri": "https://localhost:8080/",
          "height": 312
        },
        "id": "16uwJ0CGHqqn",
        "outputId": "314f378d-94fe-4bd6-ff75-572bbc6f6070"
      },
      "source": [
        "#Revendo se há valores discrepantes\n",
        "\n",
        "sns.boxplot(x=carros.motor_CC)"
      ],
      "execution_count": 450,
      "outputs": [
        {
          "output_type": "execute_result",
          "data": {
            "text/plain": [
              "<matplotlib.axes._subplots.AxesSubplot at 0x7f6e82d70ad0>"
            ]
          },
          "metadata": {
            "tags": []
          },
          "execution_count": 450
        },
        {
          "output_type": "display_data",
          "data": {
            "image/png": "[encoded data removed]",
            "text/plain": [
              "<Figure size 432x288 with 1 Axes>"
            ]
          },
          "metadata": {
            "tags": []
          }
        }
      ]
    },
    {
      "cell_type": "code",
      "metadata": {
        "colab": {
          "base_uri": "https://localhost:8080/"
        },
        "id": "926y19ovFXSq",
        "outputId": "afb3369c-9887-408f-8450-bafe0fe6e8cb"
      },
      "source": [
        "carros.shape"
      ],
      "execution_count": 357,
      "outputs": [
        {
          "output_type": "execute_result",
          "data": {
            "text/plain": [
              "(6076, 17)"
            ]
          },
          "metadata": {
            "tags": []
          },
          "execution_count": 357
        }
      ]
    },
    {
      "cell_type": "markdown",
      "metadata": {
        "id": "qWShTYnYUFh1"
      },
      "source": [
        "####Conclusão prévia:\n",
        "\n",
        "- Houve uma acentuada diminuição de valores discrepantes para essa variável. Vou prosseguir para as outras variáveis a fim de realizar a detecção de outliers."
      ]
    },
    {
      "cell_type": "markdown",
      "metadata": {
        "id": "V_CPLVwxFmKe"
      },
      "source": [
        "#### Variável nº 5 - \"potencia_do_motor_bhp\""
      ]
    },
    {
      "cell_type": "code",
      "metadata": {
        "colab": {
          "base_uri": "https://localhost:8080/",
          "height": 312
        },
        "id": "9zMabzovMNT9",
        "outputId": "5ff91869-5ac5-44b0-dc94-82dee95554f7"
      },
      "source": [
        "# Visualizando os dados através de boxplot\n",
        "\n",
        "sns.boxplot(x=carros.potencia_do_motor_bhp)"
      ],
      "execution_count": 451,
      "outputs": [
        {
          "output_type": "execute_result",
          "data": {
            "text/plain": [
              "<matplotlib.axes._subplots.AxesSubplot at 0x7f6e84d60810>"
            ]
          },
          "metadata": {
            "tags": []
          },
          "execution_count": 451
        },
        {
          "output_type": "display_data",
          "data": {
            "image/png": "[encoded data removed]",
            "text/plain": [
              "<Figure size 432x288 with 1 Axes>"
            ]
          },
          "metadata": {
            "tags": []
          }
        }
      ]
    },
    {
      "cell_type": "markdown",
      "metadata": {
        "id": "0C-WgIK4UpBV"
      },
      "source": [
        "####Conclusão prévia:\n",
        "\n",
        "- Por meio desse gráfico é possível ver que há valores que se distanciam muito dos outros para essa variável. Esses valores podem ser considerados possivelmente outliers.\n",
        "\n",
        "- Vou identificar e remover esses outliers utilizando o Interquartile range (IQR)."
      ]
    },
    {
      "cell_type": "code",
      "metadata": {
        "id": "TmdNzXRJG8Ky"
      },
      "source": [
        "for x in ['potencia_do_motor_bhp']:\n",
        "    q75,q25 = np.percentile(carros.loc[:,x],[75,25])\n",
        "    intr_qr = q75-q25\n",
        " \n",
        "    max = q75+(1.5*intr_qr)\n",
        "    min = q25-(1.5*intr_qr)\n",
        " \n",
        "    carros.loc[carros[x] < min,x] = np.nan\n",
        "    carros.loc[carros[x] > max,x] = np.nan"
      ],
      "execution_count": 452,
      "outputs": []
    },
    {
      "cell_type": "code",
      "metadata": {
        "colab": {
          "base_uri": "https://localhost:8080/"
        },
        "id": "7JrNZoJzG8K0",
        "outputId": "e006e05a-1574-4421-ac41-1626a929d301"
      },
      "source": [
        "# Identificando quantos valores nulos há no dataset por categoria\n",
        "\n",
        "carros.isnull().sum()"
      ],
      "execution_count": 453,
      "outputs": [
        {
          "output_type": "execute_result",
          "data": {
            "text/plain": [
              "nome_completo_do_carro                       0\n",
              "ano                                          0\n",
              "preco_de_venda_USD                           0\n",
              "km_rodado                                    0\n",
              "tipo_combustivel                             0\n",
              "tipo_do_vendedor                             0\n",
              "transmissao                                  0\n",
              "dono                                         0\n",
              "consumo_do_combustivel_kmpl                  0\n",
              "motor_CC                                     0\n",
              "potencia_do_motor_bhp                      303\n",
              "assentos                                     0\n",
              "preco_de_venda_USD_normalizado               0\n",
              "consumo_do_combustivel_kmpl_normalizado      0\n",
              "preco_de_venda_USD_binned                    0\n",
              "tipo_de_combustivel_Diesel                   0\n",
              "tipo_de_combustivel_Petrol                   0\n",
              "dtype: int64"
            ]
          },
          "metadata": {
            "tags": []
          },
          "execution_count": 453
        }
      ]
    },
    {
      "cell_type": "code",
      "metadata": {
        "id": "Tfvc6BS1G8K1"
      },
      "source": [
        "# Removendo as linhas que possuem valores nulos\n",
        "\n",
        "carros = carros.dropna(axis = 0)"
      ],
      "execution_count": 454,
      "outputs": []
    },
    {
      "cell_type": "code",
      "metadata": {
        "colab": {
          "base_uri": "https://localhost:8080/"
        },
        "id": "4ZVSyghXG8K2",
        "outputId": "93791cc3-9ef7-4c01-ed9c-4fb1a1068e89"
      },
      "source": [
        "#Identificando se há valores nulos por categorias\n",
        "\n",
        "carros.isnull().sum()"
      ],
      "execution_count": 455,
      "outputs": [
        {
          "output_type": "execute_result",
          "data": {
            "text/plain": [
              "nome_completo_do_carro                     0\n",
              "ano                                        0\n",
              "preco_de_venda_USD                         0\n",
              "km_rodado                                  0\n",
              "tipo_combustivel                           0\n",
              "tipo_do_vendedor                           0\n",
              "transmissao                                0\n",
              "dono                                       0\n",
              "consumo_do_combustivel_kmpl                0\n",
              "motor_CC                                   0\n",
              "potencia_do_motor_bhp                      0\n",
              "assentos                                   0\n",
              "preco_de_venda_USD_normalizado             0\n",
              "consumo_do_combustivel_kmpl_normalizado    0\n",
              "preco_de_venda_USD_binned                  0\n",
              "tipo_de_combustivel_Diesel                 0\n",
              "tipo_de_combustivel_Petrol                 0\n",
              "dtype: int64"
            ]
          },
          "metadata": {
            "tags": []
          },
          "execution_count": 455
        }
      ]
    },
    {
      "cell_type": "code",
      "metadata": {
        "colab": {
          "base_uri": "https://localhost:8080/",
          "height": 312
        },
        "id": "qTsDTREJHv3z",
        "outputId": "576a2df5-01fd-49fe-ca00-d8ca2268b041"
      },
      "source": [
        "#Revendo se há valores discrepantes\n",
        "\n",
        "sns.boxplot(x=carros.potencia_do_motor_bhp)"
      ],
      "execution_count": 456,
      "outputs": [
        {
          "output_type": "execute_result",
          "data": {
            "text/plain": [
              "<matplotlib.axes._subplots.AxesSubplot at 0x7f6e90f1efd0>"
            ]
          },
          "metadata": {
            "tags": []
          },
          "execution_count": 456
        },
        {
          "output_type": "display_data",
          "data": {
            "image/png": "[encoded data removed]",
            "text/plain": [
              "<Figure size 432x288 with 1 Axes>"
            ]
          },
          "metadata": {
            "tags": []
          }
        }
      ]
    },
    {
      "cell_type": "code",
      "metadata": {
        "colab": {
          "base_uri": "https://localhost:8080/"
        },
        "id": "NR5IiQdXG8K3",
        "outputId": "a0ad61d9-1164-4bbc-dd40-4e68f1e32430"
      },
      "source": [
        "carros.shape"
      ],
      "execution_count": 363,
      "outputs": [
        {
          "output_type": "execute_result",
          "data": {
            "text/plain": [
              "(5773, 17)"
            ]
          },
          "metadata": {
            "tags": []
          },
          "execution_count": 363
        }
      ]
    },
    {
      "cell_type": "markdown",
      "metadata": {
        "id": "FgFuKanJVGER"
      },
      "source": [
        "####Conclusão prévia:\n",
        "\n",
        "- Não há valores discrepantes para essa variável. Vou prosseguir para as outras variáveis a fim de realizar a detecção de outliers."
      ]
    },
    {
      "cell_type": "markdown",
      "metadata": {
        "id": "ejIpZ9e4G2Bo"
      },
      "source": [
        "#### Variável nº 6 - \"assentos\""
      ]
    },
    {
      "cell_type": "code",
      "metadata": {
        "colab": {
          "base_uri": "https://localhost:8080/",
          "height": 312
        },
        "id": "al9pupW6MROe",
        "outputId": "50d25c2f-07aa-410d-950b-d3dccec28fa4"
      },
      "source": [
        "# Visualizando os dados através de boxplot\n",
        "\n",
        "sns.boxplot(x=carros.assentos)"
      ],
      "execution_count": 457,
      "outputs": [
        {
          "output_type": "execute_result",
          "data": {
            "text/plain": [
              "<matplotlib.axes._subplots.AxesSubplot at 0x7f6e91085a10>"
            ]
          },
          "metadata": {
            "tags": []
          },
          "execution_count": 457
        },
        {
          "output_type": "display_data",
          "data": {
            "image/png": "[encoded data removed]",
            "text/plain": [
              "<Figure size 432x288 with 1 Axes>"
            ]
          },
          "metadata": {
            "tags": []
          }
        }
      ]
    },
    {
      "cell_type": "markdown",
      "metadata": {
        "id": "ASRRZgvAVhH4"
      },
      "source": [
        "####Conclusão prévia:\n",
        "\n",
        "- Por meio desse gráfico é possível ver que há valores que se distanciam muito dos outros para essa variável. Esses valores podem ser considerados possivelmente outliers.\n",
        "\n",
        "- Vou identificar e remover esses outliers utilizando o Interquartile range (IQR)."
      ]
    },
    {
      "cell_type": "code",
      "metadata": {
        "id": "p2i0JxqdHDH7"
      },
      "source": [
        "for x in ['assentos']:\n",
        "    q75,q25 = np.percentile(carros.loc[:,x],[75,25])\n",
        "    intr_qr = q75-q25\n",
        " \n",
        "    max = q75+(1.5*intr_qr)\n",
        "    min = q25-(1.5*intr_qr)\n",
        " \n",
        "    carros.loc[carros[x] < min,x] = np.nan\n",
        "    carros.loc[carros[x] > max,x] = np.nan"
      ],
      "execution_count": 461,
      "outputs": []
    },
    {
      "cell_type": "code",
      "metadata": {
        "colab": {
          "base_uri": "https://localhost:8080/"
        },
        "id": "4AOAPLvpHDH8",
        "outputId": "0ee03918-db03-4462-f643-d89f1b279c4f"
      },
      "source": [
        "# Identificando quantos valores nulos há no dataset por categoria\n",
        "\n",
        "carros.isnull().sum()"
      ],
      "execution_count": 462,
      "outputs": [
        {
          "output_type": "execute_result",
          "data": {
            "text/plain": [
              "nome_completo_do_carro                       0\n",
              "ano                                          0\n",
              "preco_de_venda_USD                           0\n",
              "km_rodado                                    0\n",
              "tipo_combustivel                             0\n",
              "tipo_do_vendedor                             0\n",
              "transmissao                                  0\n",
              "dono                                         0\n",
              "consumo_do_combustivel_kmpl                  0\n",
              "motor_CC                                     0\n",
              "potencia_do_motor_bhp                        0\n",
              "assentos                                   491\n",
              "preco_de_venda_USD_normalizado               0\n",
              "consumo_do_combustivel_kmpl_normalizado      0\n",
              "preco_de_venda_USD_binned                    0\n",
              "tipo_de_combustivel_Diesel                   0\n",
              "tipo_de_combustivel_Petrol                   0\n",
              "dtype: int64"
            ]
          },
          "metadata": {
            "tags": []
          },
          "execution_count": 462
        }
      ]
    },
    {
      "cell_type": "code",
      "metadata": {
        "id": "q8e85IeLHDH8"
      },
      "source": [
        "# Removendo as linhas que possuem valores nulos\n",
        "\n",
        "carros = carros.dropna(axis = 0)"
      ],
      "execution_count": 463,
      "outputs": []
    },
    {
      "cell_type": "code",
      "metadata": {
        "colab": {
          "base_uri": "https://localhost:8080/"
        },
        "id": "sV5YFG45HDH9",
        "outputId": "874ec359-a045-4af1-e6ac-62d4526ff1f7"
      },
      "source": [
        "#Identificando se há valores nulos por categorias\n",
        "\n",
        "carros.isnull().sum()"
      ],
      "execution_count": 464,
      "outputs": [
        {
          "output_type": "execute_result",
          "data": {
            "text/plain": [
              "nome_completo_do_carro                     0\n",
              "ano                                        0\n",
              "preco_de_venda_USD                         0\n",
              "km_rodado                                  0\n",
              "tipo_combustivel                           0\n",
              "tipo_do_vendedor                           0\n",
              "transmissao                                0\n",
              "dono                                       0\n",
              "consumo_do_combustivel_kmpl                0\n",
              "motor_CC                                   0\n",
              "potencia_do_motor_bhp                      0\n",
              "assentos                                   0\n",
              "preco_de_venda_USD_normalizado             0\n",
              "consumo_do_combustivel_kmpl_normalizado    0\n",
              "preco_de_venda_USD_binned                  0\n",
              "tipo_de_combustivel_Diesel                 0\n",
              "tipo_de_combustivel_Petrol                 0\n",
              "dtype: int64"
            ]
          },
          "metadata": {
            "tags": []
          },
          "execution_count": 464
        }
      ]
    },
    {
      "cell_type": "code",
      "metadata": {
        "colab": {
          "base_uri": "https://localhost:8080/",
          "height": 312
        },
        "id": "iANU5WTvH2gj",
        "outputId": "a422ab5d-8c8e-419d-d9f9-163d6b1325f1"
      },
      "source": [
        "#Revendo se há valores discrepantes\n",
        "\n",
        "sns.boxplot(x=carros.assentos)"
      ],
      "execution_count": 465,
      "outputs": [
        {
          "output_type": "execute_result",
          "data": {
            "text/plain": [
              "<matplotlib.axes._subplots.AxesSubplot at 0x7f6e913a9650>"
            ]
          },
          "metadata": {
            "tags": []
          },
          "execution_count": 465
        },
        {
          "output_type": "display_data",
          "data": {
            "image/png": "[encoded data removed]",
            "text/plain": [
              "<Figure size 432x288 with 1 Axes>"
            ]
          },
          "metadata": {
            "tags": []
          }
        }
      ]
    },
    {
      "cell_type": "code",
      "metadata": {
        "colab": {
          "base_uri": "https://localhost:8080/"
        },
        "id": "QjoTPHbXHDH9",
        "outputId": "8aabebb8-0818-4425-8c7d-e9dc93666540"
      },
      "source": [
        "carros.shape"
      ],
      "execution_count": 369,
      "outputs": [
        {
          "output_type": "execute_result",
          "data": {
            "text/plain": [
              "(5282, 17)"
            ]
          },
          "metadata": {
            "tags": []
          },
          "execution_count": 369
        }
      ]
    },
    {
      "cell_type": "markdown",
      "metadata": {
        "id": "ilM93JqQWKM8"
      },
      "source": [
        "####Conclusão prévia:\n",
        "\n",
        "- Não há valores discrepantes para essa variável. Vou prosseguir para as outras variáveis a fim de realizar a detecção de outliers."
      ]
    },
    {
      "cell_type": "markdown",
      "metadata": {
        "id": "7JxRvseX2FBi"
      },
      "source": [
        "# 2 - Análises exploratórias para as variáveis categóricas"
      ]
    },
    {
      "cell_type": "markdown",
      "metadata": {
        "id": "wIUN70bsY4L3"
      },
      "source": [
        "### 1 - Variável \"tipo_combustivel\""
      ]
    },
    {
      "cell_type": "markdown",
      "metadata": {
        "id": "Uq0kNlpudmF0"
      },
      "source": [
        "Criando um dataframe para a variável e identificando a quantidade de valores por meio da função \"value_counts()\""
      ]
    },
    {
      "cell_type": "code",
      "metadata": {
        "colab": {
          "base_uri": "https://localhost:8080/",
          "height": 110
        },
        "id": "DRTJC0Xaqxwl",
        "outputId": "b7ef7f2a-124e-49c4-ca01-c1f6dc81dd0e"
      },
      "source": [
        "carros.tipo_combustivel.value_counts().to_frame()"
      ],
      "execution_count": 489,
      "outputs": [
        {
          "output_type": "execute_result",
          "data": {
            "text/html": [
              "<div>\n",
              "<style scoped>\n",
              "    .dataframe tbody tr th:only-of-type {\n",
              "        vertical-align: middle;\n",
              "    }\n",
              "\n",
              "    .dataframe tbody tr th {\n",
              "        vertical-align: top;\n",
              "    }\n",
              "\n",
              "    .dataframe thead th {\n",
              "        text-align: right;\n",
              "    }\n",
              "</style>\n",
              "<table border=\"1\" class=\"dataframe\">\n",
              "  <thead>\n",
              "    <tr style=\"text-align: right;\">\n",
              "      <th></th>\n",
              "      <th>tipo_combustivel</th>\n",
              "    </tr>\n",
              "  </thead>\n",
              "  <tbody>\n",
              "    <tr>\n",
              "      <th>Petrol</th>\n",
              "      <td>2989</td>\n",
              "    </tr>\n",
              "    <tr>\n",
              "      <th>Diesel</th>\n",
              "      <td>2293</td>\n",
              "    </tr>\n",
              "  </tbody>\n",
              "</table>\n",
              "</div>"
            ],
            "text/plain": [
              "        tipo_combustivel\n",
              "Petrol              2989\n",
              "Diesel              2293"
            ]
          },
          "metadata": {
            "tags": []
          },
          "execution_count": 489
        }
      ]
    },
    {
      "cell_type": "code",
      "metadata": {
        "colab": {
          "base_uri": "https://localhost:8080/",
          "height": 110
        },
        "id": "kL2M_AtmrMEy",
        "outputId": "b4b9e550-2626-4f81-bbed-a771ce795209"
      },
      "source": [
        "#Vou criar um índice a fim de criar duas colunas nesse dataframe.\n",
        "\n",
        "carros.tipo_combustivel.value_counts().to_frame().reset_index()"
      ],
      "execution_count": 490,
      "outputs": [
        {
          "output_type": "execute_result",
          "data": {
            "text/html": [
              "<div>\n",
              "<style scoped>\n",
              "    .dataframe tbody tr th:only-of-type {\n",
              "        vertical-align: middle;\n",
              "    }\n",
              "\n",
              "    .dataframe tbody tr th {\n",
              "        vertical-align: top;\n",
              "    }\n",
              "\n",
              "    .dataframe thead th {\n",
              "        text-align: right;\n",
              "    }\n",
              "</style>\n",
              "<table border=\"1\" class=\"dataframe\">\n",
              "  <thead>\n",
              "    <tr style=\"text-align: right;\">\n",
              "      <th></th>\n",
              "      <th>index</th>\n",
              "      <th>tipo_combustivel</th>\n",
              "    </tr>\n",
              "  </thead>\n",
              "  <tbody>\n",
              "    <tr>\n",
              "      <th>0</th>\n",
              "      <td>Petrol</td>\n",
              "      <td>2989</td>\n",
              "    </tr>\n",
              "    <tr>\n",
              "      <th>1</th>\n",
              "      <td>Diesel</td>\n",
              "      <td>2293</td>\n",
              "    </tr>\n",
              "  </tbody>\n",
              "</table>\n",
              "</div>"
            ],
            "text/plain": [
              "    index  tipo_combustivel\n",
              "0  Petrol              2989\n",
              "1  Diesel              2293"
            ]
          },
          "metadata": {
            "tags": []
          },
          "execution_count": 490
        }
      ]
    },
    {
      "cell_type": "code",
      "metadata": {
        "id": "cQBAAHSArsO4"
      },
      "source": [
        "#Vou renomear esse produto\n",
        "\n",
        "tipo_combustivel = carros.tipo_combustivel.value_counts().to_frame().reset_index()"
      ],
      "execution_count": 491,
      "outputs": []
    },
    {
      "cell_type": "code",
      "metadata": {
        "colab": {
          "base_uri": "https://localhost:8080/",
          "height": 110
        },
        "id": "lbN-uj_vr61Z",
        "outputId": "2395c38c-a939-4ff0-9787-0b66d8b772a0"
      },
      "source": [
        "tipo_combustivel.head()"
      ],
      "execution_count": 492,
      "outputs": [
        {
          "output_type": "execute_result",
          "data": {
            "text/html": [
              "<div>\n",
              "<style scoped>\n",
              "    .dataframe tbody tr th:only-of-type {\n",
              "        vertical-align: middle;\n",
              "    }\n",
              "\n",
              "    .dataframe tbody tr th {\n",
              "        vertical-align: top;\n",
              "    }\n",
              "\n",
              "    .dataframe thead th {\n",
              "        text-align: right;\n",
              "    }\n",
              "</style>\n",
              "<table border=\"1\" class=\"dataframe\">\n",
              "  <thead>\n",
              "    <tr style=\"text-align: right;\">\n",
              "      <th></th>\n",
              "      <th>index</th>\n",
              "      <th>tipo_combustivel</th>\n",
              "    </tr>\n",
              "  </thead>\n",
              "  <tbody>\n",
              "    <tr>\n",
              "      <th>0</th>\n",
              "      <td>Petrol</td>\n",
              "      <td>2989</td>\n",
              "    </tr>\n",
              "    <tr>\n",
              "      <th>1</th>\n",
              "      <td>Diesel</td>\n",
              "      <td>2293</td>\n",
              "    </tr>\n",
              "  </tbody>\n",
              "</table>\n",
              "</div>"
            ],
            "text/plain": [
              "    index  tipo_combustivel\n",
              "0  Petrol              2989\n",
              "1  Diesel              2293"
            ]
          },
          "metadata": {
            "tags": []
          },
          "execution_count": 492
        }
      ]
    },
    {
      "cell_type": "code",
      "metadata": {
        "id": "FIuXuuTWsDp2"
      },
      "source": [
        "#Vou trocar os rótulos de cada coluna\n",
        "\n",
        "tipo_combustivel.columns = ['Tipo_combustivel', 'Quantidade_de_carros']"
      ],
      "execution_count": 493,
      "outputs": []
    },
    {
      "cell_type": "code",
      "metadata": {
        "colab": {
          "base_uri": "https://localhost:8080/",
          "height": 110
        },
        "id": "J60F6mI4sUXH",
        "outputId": "56b9d5bf-aeaf-4808-feb9-72202861448f"
      },
      "source": [
        "#Checando os valores por categoria\n",
        "\n",
        "tipo_combustivel"
      ],
      "execution_count": 494,
      "outputs": [
        {
          "output_type": "execute_result",
          "data": {
            "text/html": [
              "<div>\n",
              "<style scoped>\n",
              "    .dataframe tbody tr th:only-of-type {\n",
              "        vertical-align: middle;\n",
              "    }\n",
              "\n",
              "    .dataframe tbody tr th {\n",
              "        vertical-align: top;\n",
              "    }\n",
              "\n",
              "    .dataframe thead th {\n",
              "        text-align: right;\n",
              "    }\n",
              "</style>\n",
              "<table border=\"1\" class=\"dataframe\">\n",
              "  <thead>\n",
              "    <tr style=\"text-align: right;\">\n",
              "      <th></th>\n",
              "      <th>Tipo_combustivel</th>\n",
              "      <th>Quantidade_de_carros</th>\n",
              "    </tr>\n",
              "  </thead>\n",
              "  <tbody>\n",
              "    <tr>\n",
              "      <th>0</th>\n",
              "      <td>Petrol</td>\n",
              "      <td>2989</td>\n",
              "    </tr>\n",
              "    <tr>\n",
              "      <th>1</th>\n",
              "      <td>Diesel</td>\n",
              "      <td>2293</td>\n",
              "    </tr>\n",
              "  </tbody>\n",
              "</table>\n",
              "</div>"
            ],
            "text/plain": [
              "  Tipo_combustivel  Quantidade_de_carros\n",
              "0           Petrol                  2989\n",
              "1           Diesel                  2293"
            ]
          },
          "metadata": {
            "tags": []
          },
          "execution_count": 494
        }
      ]
    },
    {
      "cell_type": "markdown",
      "metadata": {
        "id": "n0crlUF6v1ym"
      },
      "source": [
        "Gráfico"
      ]
    },
    {
      "cell_type": "code",
      "metadata": {
        "id": "mk2LZe6xsv1h"
      },
      "source": [
        "#Agora sim vou criar um gráfico para essa variável\n",
        "\n",
        "#Vou utilizar um gráfico de barras da biblioteca Seaborn\n",
        "\n",
        "import seaborn as sns"
      ],
      "execution_count": 495,
      "outputs": []
    },
    {
      "cell_type": "code",
      "metadata": {
        "colab": {
          "base_uri": "https://localhost:8080/",
          "height": 330
        },
        "id": "MocoJCMYsxyF",
        "outputId": "236406ad-e728-4f87-862c-505a0e8541f7"
      },
      "source": [
        "#Vou mencionar ao seaborn quais sãos os parâmetros do eixo x e do eixo y\n",
        "\n",
        "sns.set(font_scale=1.4)\n",
        "\n",
        "sns.barplot(x = \"Tipo_combustivel\", y = \"Quantidade_de_carros\", data = tipo_combustivel)\n",
        "\n",
        "plt.xlabel(\"Tipo do combustível\", labelpad=14)\n",
        "plt.ylabel(\"Quantidade de carros\", labelpad=14)\n",
        "plt.title(\"Quantidade de carros por tipo de combustível\", y=1.02);"
      ],
      "execution_count": 496,
      "outputs": [
        {
          "output_type": "display_data",
          "data": {
            "image/png": "[encoded data removed]",
            "text/plain": [
              "<Figure size 432x288 with 1 Axes>"
            ]
          },
          "metadata": {
            "tags": []
          }
        }
      ]
    },
    {
      "cell_type": "markdown",
      "metadata": {
        "id": "QxuT6Ttl2QFM"
      },
      "source": [
        "#Conclusão prévia:\n",
        "\n",
        "- Há mais carros para o tipo de combustível \"Diesel\" do que \"Petrol\""
      ]
    },
    {
      "cell_type": "markdown",
      "metadata": {
        "id": "KSDGfg8GZC76"
      },
      "source": [
        "## 2 - Variável \"tipo_do_vendedor\""
      ]
    },
    {
      "cell_type": "markdown",
      "metadata": {
        "id": "H-JDySBDwqF7"
      },
      "source": [
        "Criando um dataframe para a variável e identificando a quantidade de valores por meio da função \"value_counts()\""
      ]
    },
    {
      "cell_type": "code",
      "metadata": {
        "colab": {
          "base_uri": "https://localhost:8080/",
          "height": 142
        },
        "id": "IyLXKVrzwttl",
        "outputId": "192b93cd-5e28-465b-c675-e3a0dcd7d271"
      },
      "source": [
        "#Vou criar um índice a fim de criar duas colunas nesse dataframe.\n",
        "\n",
        "carros.tipo_do_vendedor.value_counts().to_frame().reset_index()"
      ],
      "execution_count": 497,
      "outputs": [
        {
          "output_type": "execute_result",
          "data": {
            "text/html": [
              "<div>\n",
              "<style scoped>\n",
              "    .dataframe tbody tr th:only-of-type {\n",
              "        vertical-align: middle;\n",
              "    }\n",
              "\n",
              "    .dataframe tbody tr th {\n",
              "        vertical-align: top;\n",
              "    }\n",
              "\n",
              "    .dataframe thead th {\n",
              "        text-align: right;\n",
              "    }\n",
              "</style>\n",
              "<table border=\"1\" class=\"dataframe\">\n",
              "  <thead>\n",
              "    <tr style=\"text-align: right;\">\n",
              "      <th></th>\n",
              "      <th>index</th>\n",
              "      <th>tipo_do_vendedor</th>\n",
              "    </tr>\n",
              "  </thead>\n",
              "  <tbody>\n",
              "    <tr>\n",
              "      <th>0</th>\n",
              "      <td>Individual</td>\n",
              "      <td>4484</td>\n",
              "    </tr>\n",
              "    <tr>\n",
              "      <th>1</th>\n",
              "      <td>Dealer</td>\n",
              "      <td>626</td>\n",
              "    </tr>\n",
              "    <tr>\n",
              "      <th>2</th>\n",
              "      <td>Trustmark Dealer</td>\n",
              "      <td>172</td>\n",
              "    </tr>\n",
              "  </tbody>\n",
              "</table>\n",
              "</div>"
            ],
            "text/plain": [
              "              index  tipo_do_vendedor\n",
              "0        Individual              4484\n",
              "1            Dealer               626\n",
              "2  Trustmark Dealer               172"
            ]
          },
          "metadata": {
            "tags": []
          },
          "execution_count": 497
        }
      ]
    },
    {
      "cell_type": "code",
      "metadata": {
        "id": "UcOvYf0iw2Sw"
      },
      "source": [
        "#Vou renomear esse produto\n",
        "\n",
        "tipo_do_vendedor = carros.tipo_do_vendedor.value_counts().to_frame().reset_index()"
      ],
      "execution_count": 498,
      "outputs": []
    },
    {
      "cell_type": "code",
      "metadata": {
        "colab": {
          "base_uri": "https://localhost:8080/",
          "height": 142
        },
        "id": "qV1-3yuRxAnj",
        "outputId": "cabfcfbc-1acd-47d3-e661-4b8a97d259b5"
      },
      "source": [
        "tipo_do_vendedor.head()"
      ],
      "execution_count": 499,
      "outputs": [
        {
          "output_type": "execute_result",
          "data": {
            "text/html": [
              "<div>\n",
              "<style scoped>\n",
              "    .dataframe tbody tr th:only-of-type {\n",
              "        vertical-align: middle;\n",
              "    }\n",
              "\n",
              "    .dataframe tbody tr th {\n",
              "        vertical-align: top;\n",
              "    }\n",
              "\n",
              "    .dataframe thead th {\n",
              "        text-align: right;\n",
              "    }\n",
              "</style>\n",
              "<table border=\"1\" class=\"dataframe\">\n",
              "  <thead>\n",
              "    <tr style=\"text-align: right;\">\n",
              "      <th></th>\n",
              "      <th>index</th>\n",
              "      <th>tipo_do_vendedor</th>\n",
              "    </tr>\n",
              "  </thead>\n",
              "  <tbody>\n",
              "    <tr>\n",
              "      <th>0</th>\n",
              "      <td>Individual</td>\n",
              "      <td>4484</td>\n",
              "    </tr>\n",
              "    <tr>\n",
              "      <th>1</th>\n",
              "      <td>Dealer</td>\n",
              "      <td>626</td>\n",
              "    </tr>\n",
              "    <tr>\n",
              "      <th>2</th>\n",
              "      <td>Trustmark Dealer</td>\n",
              "      <td>172</td>\n",
              "    </tr>\n",
              "  </tbody>\n",
              "</table>\n",
              "</div>"
            ],
            "text/plain": [
              "              index  tipo_do_vendedor\n",
              "0        Individual              4484\n",
              "1            Dealer               626\n",
              "2  Trustmark Dealer               172"
            ]
          },
          "metadata": {
            "tags": []
          },
          "execution_count": 499
        }
      ]
    },
    {
      "cell_type": "code",
      "metadata": {
        "id": "_6aLiYePxHEB"
      },
      "source": [
        "#Vou trocar os rótulos de cada coluna\n",
        "\n",
        "tipo_do_vendedor.columns = ['tipo_do_vendedor', \"Quantidade_de_carros\"]"
      ],
      "execution_count": 500,
      "outputs": []
    },
    {
      "cell_type": "code",
      "metadata": {
        "colab": {
          "base_uri": "https://localhost:8080/",
          "height": 142
        },
        "id": "b9YI_UTFxusb",
        "outputId": "dcd99389-e54c-44fa-d85a-cfa6ae68c1f9"
      },
      "source": [
        "#Checando os valores por categoria\n",
        "\n",
        "tipo_do_vendedor"
      ],
      "execution_count": 501,
      "outputs": [
        {
          "output_type": "execute_result",
          "data": {
            "text/html": [
              "<div>\n",
              "<style scoped>\n",
              "    .dataframe tbody tr th:only-of-type {\n",
              "        vertical-align: middle;\n",
              "    }\n",
              "\n",
              "    .dataframe tbody tr th {\n",
              "        vertical-align: top;\n",
              "    }\n",
              "\n",
              "    .dataframe thead th {\n",
              "        text-align: right;\n",
              "    }\n",
              "</style>\n",
              "<table border=\"1\" class=\"dataframe\">\n",
              "  <thead>\n",
              "    <tr style=\"text-align: right;\">\n",
              "      <th></th>\n",
              "      <th>tipo_do_vendedor</th>\n",
              "      <th>Quantidade_de_carros</th>\n",
              "    </tr>\n",
              "  </thead>\n",
              "  <tbody>\n",
              "    <tr>\n",
              "      <th>0</th>\n",
              "      <td>Individual</td>\n",
              "      <td>4484</td>\n",
              "    </tr>\n",
              "    <tr>\n",
              "      <th>1</th>\n",
              "      <td>Dealer</td>\n",
              "      <td>626</td>\n",
              "    </tr>\n",
              "    <tr>\n",
              "      <th>2</th>\n",
              "      <td>Trustmark Dealer</td>\n",
              "      <td>172</td>\n",
              "    </tr>\n",
              "  </tbody>\n",
              "</table>\n",
              "</div>"
            ],
            "text/plain": [
              "   tipo_do_vendedor  Quantidade_de_carros\n",
              "0        Individual                  4484\n",
              "1            Dealer                   626\n",
              "2  Trustmark Dealer                   172"
            ]
          },
          "metadata": {
            "tags": []
          },
          "execution_count": 501
        }
      ]
    },
    {
      "cell_type": "markdown",
      "metadata": {
        "id": "YwlGsItNxzK7"
      },
      "source": [
        "Gráfico"
      ]
    },
    {
      "cell_type": "code",
      "metadata": {
        "colab": {
          "base_uri": "https://localhost:8080/",
          "height": 329
        },
        "id": "T4KCm84txyga",
        "outputId": "e6fe2a4a-4fe9-4d8a-aa22-aaf6121a49ee"
      },
      "source": [
        "#Vou mencionar ao seaborn quais sãos os parâmetros do eixo x e do eixo y\n",
        "\n",
        "sns.set(font_scale=1.4)\n",
        "\n",
        "sns.barplot(x = \"tipo_do_vendedor\", y = \"Quantidade_de_carros\", data = tipo_do_vendedor)\n",
        "\n",
        "plt.xlabel(\"Tipo do vendedor\", labelpad=14)\n",
        "plt.ylabel(\"Quantidade de carros\", labelpad=14)\n",
        "plt.title(\"Quantidade de carros por tipo de vendedor\", y=1.02);"
      ],
      "execution_count": 502,
      "outputs": [
        {
          "output_type": "display_data",
          "data": {
            "image/png": "[encoded data removed]",
            "text/plain": [
              "<Figure size 432x288 with 1 Axes>"
            ]
          },
          "metadata": {
            "tags": []
          }
        }
      ]
    },
    {
      "cell_type": "markdown",
      "metadata": {
        "id": "ADadnKhi2riu"
      },
      "source": [
        "# Conclusão prévia:\n",
        "\n",
        "- Há mais carros para vendedores do tipo individual, seguido de \"Dealer\" e \"Trustmark Dealer\""
      ]
    },
    {
      "cell_type": "markdown",
      "metadata": {
        "id": "ApwIa-njZXGd"
      },
      "source": [
        "## 3 - Variável \"transmissao\""
      ]
    },
    {
      "cell_type": "markdown",
      "metadata": {
        "id": "rwvycqUUyeil"
      },
      "source": [
        "Criando um dataframe para a variável e identificando a quantidade de valores por meio da função \"value_counts()\""
      ]
    },
    {
      "cell_type": "code",
      "metadata": {
        "colab": {
          "base_uri": "https://localhost:8080/",
          "height": 110
        },
        "id": "Cyf5hHPyyls3",
        "outputId": "4932f1d3-3426-4435-942e-824900a5ee81"
      },
      "source": [
        "carros.transmissao.value_counts().to_frame()"
      ],
      "execution_count": 503,
      "outputs": [
        {
          "output_type": "execute_result",
          "data": {
            "text/html": [
              "<div>\n",
              "<style scoped>\n",
              "    .dataframe tbody tr th:only-of-type {\n",
              "        vertical-align: middle;\n",
              "    }\n",
              "\n",
              "    .dataframe tbody tr th {\n",
              "        vertical-align: top;\n",
              "    }\n",
              "\n",
              "    .dataframe thead th {\n",
              "        text-align: right;\n",
              "    }\n",
              "</style>\n",
              "<table border=\"1\" class=\"dataframe\">\n",
              "  <thead>\n",
              "    <tr style=\"text-align: right;\">\n",
              "      <th></th>\n",
              "      <th>transmissao</th>\n",
              "    </tr>\n",
              "  </thead>\n",
              "  <tbody>\n",
              "    <tr>\n",
              "      <th>Manual</th>\n",
              "      <td>4881</td>\n",
              "    </tr>\n",
              "    <tr>\n",
              "      <th>Automatic</th>\n",
              "      <td>401</td>\n",
              "    </tr>\n",
              "  </tbody>\n",
              "</table>\n",
              "</div>"
            ],
            "text/plain": [
              "           transmissao\n",
              "Manual            4881\n",
              "Automatic          401"
            ]
          },
          "metadata": {
            "tags": []
          },
          "execution_count": 503
        }
      ]
    },
    {
      "cell_type": "code",
      "metadata": {
        "colab": {
          "base_uri": "https://localhost:8080/",
          "height": 110
        },
        "id": "GPlZAJlIyvxt",
        "outputId": "494b0871-6b9b-4d88-956b-a2f63c47e4f1"
      },
      "source": [
        "#Vou criar um índice a fim de criar duas colunas nesse dataframe.\n",
        "\n",
        "carros.transmissao.value_counts().to_frame().reset_index()"
      ],
      "execution_count": 504,
      "outputs": [
        {
          "output_type": "execute_result",
          "data": {
            "text/html": [
              "<div>\n",
              "<style scoped>\n",
              "    .dataframe tbody tr th:only-of-type {\n",
              "        vertical-align: middle;\n",
              "    }\n",
              "\n",
              "    .dataframe tbody tr th {\n",
              "        vertical-align: top;\n",
              "    }\n",
              "\n",
              "    .dataframe thead th {\n",
              "        text-align: right;\n",
              "    }\n",
              "</style>\n",
              "<table border=\"1\" class=\"dataframe\">\n",
              "  <thead>\n",
              "    <tr style=\"text-align: right;\">\n",
              "      <th></th>\n",
              "      <th>index</th>\n",
              "      <th>transmissao</th>\n",
              "    </tr>\n",
              "  </thead>\n",
              "  <tbody>\n",
              "    <tr>\n",
              "      <th>0</th>\n",
              "      <td>Manual</td>\n",
              "      <td>4881</td>\n",
              "    </tr>\n",
              "    <tr>\n",
              "      <th>1</th>\n",
              "      <td>Automatic</td>\n",
              "      <td>401</td>\n",
              "    </tr>\n",
              "  </tbody>\n",
              "</table>\n",
              "</div>"
            ],
            "text/plain": [
              "       index  transmissao\n",
              "0     Manual         4881\n",
              "1  Automatic          401"
            ]
          },
          "metadata": {
            "tags": []
          },
          "execution_count": 504
        }
      ]
    },
    {
      "cell_type": "code",
      "metadata": {
        "id": "-klvNCh8zDEy"
      },
      "source": [
        "#Vou renomear esse produto\n",
        "\n",
        "transmissao = carros.transmissao.value_counts().to_frame().reset_index()"
      ],
      "execution_count": 505,
      "outputs": []
    },
    {
      "cell_type": "code",
      "metadata": {
        "colab": {
          "base_uri": "https://localhost:8080/",
          "height": 110
        },
        "id": "f9E2B-cbzN0E",
        "outputId": "4573193a-c5d7-48ff-d8bf-a7419f360c1e"
      },
      "source": [
        "transmissao.head()"
      ],
      "execution_count": 506,
      "outputs": [
        {
          "output_type": "execute_result",
          "data": {
            "text/html": [
              "<div>\n",
              "<style scoped>\n",
              "    .dataframe tbody tr th:only-of-type {\n",
              "        vertical-align: middle;\n",
              "    }\n",
              "\n",
              "    .dataframe tbody tr th {\n",
              "        vertical-align: top;\n",
              "    }\n",
              "\n",
              "    .dataframe thead th {\n",
              "        text-align: right;\n",
              "    }\n",
              "</style>\n",
              "<table border=\"1\" class=\"dataframe\">\n",
              "  <thead>\n",
              "    <tr style=\"text-align: right;\">\n",
              "      <th></th>\n",
              "      <th>index</th>\n",
              "      <th>transmissao</th>\n",
              "    </tr>\n",
              "  </thead>\n",
              "  <tbody>\n",
              "    <tr>\n",
              "      <th>0</th>\n",
              "      <td>Manual</td>\n",
              "      <td>4881</td>\n",
              "    </tr>\n",
              "    <tr>\n",
              "      <th>1</th>\n",
              "      <td>Automatic</td>\n",
              "      <td>401</td>\n",
              "    </tr>\n",
              "  </tbody>\n",
              "</table>\n",
              "</div>"
            ],
            "text/plain": [
              "       index  transmissao\n",
              "0     Manual         4881\n",
              "1  Automatic          401"
            ]
          },
          "metadata": {
            "tags": []
          },
          "execution_count": 506
        }
      ]
    },
    {
      "cell_type": "code",
      "metadata": {
        "id": "bNERJtWvzeCV"
      },
      "source": [
        "#Vou trocar os rótulos de cada coluna\n",
        "\n",
        "transmissao.columns = ['Tipo_de_transmissao', 'Quantidade_de_carros']"
      ],
      "execution_count": 507,
      "outputs": []
    },
    {
      "cell_type": "code",
      "metadata": {
        "colab": {
          "base_uri": "https://localhost:8080/",
          "height": 110
        },
        "id": "H-9w4rlFzxLp",
        "outputId": "186710fa-db62-4793-9385-d1556d5c545b"
      },
      "source": [
        "#Checando os valores por categoria\n",
        "\n",
        "transmissao"
      ],
      "execution_count": 508,
      "outputs": [
        {
          "output_type": "execute_result",
          "data": {
            "text/html": [
              "<div>\n",
              "<style scoped>\n",
              "    .dataframe tbody tr th:only-of-type {\n",
              "        vertical-align: middle;\n",
              "    }\n",
              "\n",
              "    .dataframe tbody tr th {\n",
              "        vertical-align: top;\n",
              "    }\n",
              "\n",
              "    .dataframe thead th {\n",
              "        text-align: right;\n",
              "    }\n",
              "</style>\n",
              "<table border=\"1\" class=\"dataframe\">\n",
              "  <thead>\n",
              "    <tr style=\"text-align: right;\">\n",
              "      <th></th>\n",
              "      <th>Tipo_de_transmissao</th>\n",
              "      <th>Quantidade_de_carros</th>\n",
              "    </tr>\n",
              "  </thead>\n",
              "  <tbody>\n",
              "    <tr>\n",
              "      <th>0</th>\n",
              "      <td>Manual</td>\n",
              "      <td>4881</td>\n",
              "    </tr>\n",
              "    <tr>\n",
              "      <th>1</th>\n",
              "      <td>Automatic</td>\n",
              "      <td>401</td>\n",
              "    </tr>\n",
              "  </tbody>\n",
              "</table>\n",
              "</div>"
            ],
            "text/plain": [
              "  Tipo_de_transmissao  Quantidade_de_carros\n",
              "0              Manual                  4881\n",
              "1           Automatic                   401"
            ]
          },
          "metadata": {
            "tags": []
          },
          "execution_count": 508
        }
      ]
    },
    {
      "cell_type": "markdown",
      "metadata": {
        "id": "NINnkKdDz1iV"
      },
      "source": [
        "Gráfico"
      ]
    },
    {
      "cell_type": "code",
      "metadata": {
        "colab": {
          "base_uri": "https://localhost:8080/",
          "height": 329
        },
        "id": "T-g0BzYjz6Zt",
        "outputId": "ae5b023b-3338-4df6-95a7-6b835cf13276"
      },
      "source": [
        "#Vou mencionar ao seaborn quais sãos os parâmetros do eixo x e do eixo y\n",
        "\n",
        "sns.set(font_scale=1.4)\n",
        "\n",
        "sns.barplot(x = \"Tipo_de_transmissao\", y = \"Quantidade_de_carros\", data = transmissao)\n",
        "\n",
        "plt.xlabel(\"Tipo de transmissão\", labelpad=14)\n",
        "plt.ylabel(\"Quantidade de carros\", labelpad=14)\n",
        "plt.title(\"Quantidade de carros por tipo de transmissão\", y=1.02);"
      ],
      "execution_count": 509,
      "outputs": [
        {
          "output_type": "display_data",
          "data": {
            "image/png": "[encoded data removed]",
            "text/plain": [
              "<Figure size 432x288 with 1 Axes>"
            ]
          },
          "metadata": {
            "tags": []
          }
        }
      ]
    },
    {
      "cell_type": "markdown",
      "metadata": {
        "id": "5WIXQqit3FS2"
      },
      "source": [
        "#Conclusão prévia:\n",
        "\n",
        "- Há mais de vezes carros com tipo de transmissão \"Manual\" do que \"Automatic\"."
      ]
    },
    {
      "cell_type": "markdown",
      "metadata": {
        "id": "-BAcIfjUZdel"
      },
      "source": [
        "## 4 - Variável \"dono\""
      ]
    },
    {
      "cell_type": "markdown",
      "metadata": {
        "id": "OT9K2GYA0rH7"
      },
      "source": [
        "Criando um dataframe para a variável e identificando a quantidade de valores por meio da função \"value_counts()\""
      ]
    },
    {
      "cell_type": "code",
      "metadata": {
        "colab": {
          "base_uri": "https://localhost:8080/",
          "height": 172
        },
        "id": "QF_SQwDp0us5",
        "outputId": "3b3fb999-3e87-43ec-f4c5-907c0d623632"
      },
      "source": [
        "#Vou criar um índice a fim de criar duas colunas nesse dataframe.\n",
        "\n",
        "carros.dono.value_counts().to_frame().reset_index()"
      ],
      "execution_count": 510,
      "outputs": [
        {
          "output_type": "execute_result",
          "data": {
            "text/html": [
              "<div>\n",
              "<style scoped>\n",
              "    .dataframe tbody tr th:only-of-type {\n",
              "        vertical-align: middle;\n",
              "    }\n",
              "\n",
              "    .dataframe tbody tr th {\n",
              "        vertical-align: top;\n",
              "    }\n",
              "\n",
              "    .dataframe thead th {\n",
              "        text-align: right;\n",
              "    }\n",
              "</style>\n",
              "<table border=\"1\" class=\"dataframe\">\n",
              "  <thead>\n",
              "    <tr style=\"text-align: right;\">\n",
              "      <th></th>\n",
              "      <th>index</th>\n",
              "      <th>dono</th>\n",
              "    </tr>\n",
              "  </thead>\n",
              "  <tbody>\n",
              "    <tr>\n",
              "      <th>0</th>\n",
              "      <td>First Owner</td>\n",
              "      <td>3520</td>\n",
              "    </tr>\n",
              "    <tr>\n",
              "      <th>1</th>\n",
              "      <td>Second Owner</td>\n",
              "      <td>1316</td>\n",
              "    </tr>\n",
              "    <tr>\n",
              "      <th>2</th>\n",
              "      <td>Third Owner</td>\n",
              "      <td>344</td>\n",
              "    </tr>\n",
              "    <tr>\n",
              "      <th>3</th>\n",
              "      <td>Fourth &amp; Above Owner</td>\n",
              "      <td>102</td>\n",
              "    </tr>\n",
              "  </tbody>\n",
              "</table>\n",
              "</div>"
            ],
            "text/plain": [
              "                  index  dono\n",
              "0           First Owner  3520\n",
              "1          Second Owner  1316\n",
              "2           Third Owner   344\n",
              "3  Fourth & Above Owner   102"
            ]
          },
          "metadata": {
            "tags": []
          },
          "execution_count": 510
        }
      ]
    },
    {
      "cell_type": "code",
      "metadata": {
        "id": "-uGZHY9-1Bk3"
      },
      "source": [
        "#Vou renomear esse produto\n",
        "\n",
        "dono = carros.dono.value_counts().to_frame().reset_index()"
      ],
      "execution_count": 511,
      "outputs": []
    },
    {
      "cell_type": "code",
      "metadata": {
        "colab": {
          "base_uri": "https://localhost:8080/",
          "height": 172
        },
        "id": "Q9qdTOK51H49",
        "outputId": "af196ad2-9af0-4f28-901f-caecec5f29be"
      },
      "source": [
        "dono.head()"
      ],
      "execution_count": 512,
      "outputs": [
        {
          "output_type": "execute_result",
          "data": {
            "text/html": [
              "<div>\n",
              "<style scoped>\n",
              "    .dataframe tbody tr th:only-of-type {\n",
              "        vertical-align: middle;\n",
              "    }\n",
              "\n",
              "    .dataframe tbody tr th {\n",
              "        vertical-align: top;\n",
              "    }\n",
              "\n",
              "    .dataframe thead th {\n",
              "        text-align: right;\n",
              "    }\n",
              "</style>\n",
              "<table border=\"1\" class=\"dataframe\">\n",
              "  <thead>\n",
              "    <tr style=\"text-align: right;\">\n",
              "      <th></th>\n",
              "      <th>index</th>\n",
              "      <th>dono</th>\n",
              "    </tr>\n",
              "  </thead>\n",
              "  <tbody>\n",
              "    <tr>\n",
              "      <th>0</th>\n",
              "      <td>First Owner</td>\n",
              "      <td>3520</td>\n",
              "    </tr>\n",
              "    <tr>\n",
              "      <th>1</th>\n",
              "      <td>Second Owner</td>\n",
              "      <td>1316</td>\n",
              "    </tr>\n",
              "    <tr>\n",
              "      <th>2</th>\n",
              "      <td>Third Owner</td>\n",
              "      <td>344</td>\n",
              "    </tr>\n",
              "    <tr>\n",
              "      <th>3</th>\n",
              "      <td>Fourth &amp; Above Owner</td>\n",
              "      <td>102</td>\n",
              "    </tr>\n",
              "  </tbody>\n",
              "</table>\n",
              "</div>"
            ],
            "text/plain": [
              "                  index  dono\n",
              "0           First Owner  3520\n",
              "1          Second Owner  1316\n",
              "2           Third Owner   344\n",
              "3  Fourth & Above Owner   102"
            ]
          },
          "metadata": {
            "tags": []
          },
          "execution_count": 512
        }
      ]
    },
    {
      "cell_type": "code",
      "metadata": {
        "id": "8h1-gYuY1NKj"
      },
      "source": [
        "#Vou trocar os rótulos de cada coluna\n",
        "\n",
        "dono.columns = ['Tipo_do_dono', 'Quantidade_de_carros']"
      ],
      "execution_count": 513,
      "outputs": []
    },
    {
      "cell_type": "code",
      "metadata": {
        "colab": {
          "base_uri": "https://localhost:8080/",
          "height": 172
        },
        "id": "px_NTdeO1Zhy",
        "outputId": "91ebefd9-dac0-4228-e1b1-a4ca26343be7"
      },
      "source": [
        "#Checando os valores por categoria\n",
        "\n",
        "dono"
      ],
      "execution_count": 514,
      "outputs": [
        {
          "output_type": "execute_result",
          "data": {
            "text/html": [
              "<div>\n",
              "<style scoped>\n",
              "    .dataframe tbody tr th:only-of-type {\n",
              "        vertical-align: middle;\n",
              "    }\n",
              "\n",
              "    .dataframe tbody tr th {\n",
              "        vertical-align: top;\n",
              "    }\n",
              "\n",
              "    .dataframe thead th {\n",
              "        text-align: right;\n",
              "    }\n",
              "</style>\n",
              "<table border=\"1\" class=\"dataframe\">\n",
              "  <thead>\n",
              "    <tr style=\"text-align: right;\">\n",
              "      <th></th>\n",
              "      <th>Tipo_do_dono</th>\n",
              "      <th>Quantidade_de_carros</th>\n",
              "    </tr>\n",
              "  </thead>\n",
              "  <tbody>\n",
              "    <tr>\n",
              "      <th>0</th>\n",
              "      <td>First Owner</td>\n",
              "      <td>3520</td>\n",
              "    </tr>\n",
              "    <tr>\n",
              "      <th>1</th>\n",
              "      <td>Second Owner</td>\n",
              "      <td>1316</td>\n",
              "    </tr>\n",
              "    <tr>\n",
              "      <th>2</th>\n",
              "      <td>Third Owner</td>\n",
              "      <td>344</td>\n",
              "    </tr>\n",
              "    <tr>\n",
              "      <th>3</th>\n",
              "      <td>Fourth &amp; Above Owner</td>\n",
              "      <td>102</td>\n",
              "    </tr>\n",
              "  </tbody>\n",
              "</table>\n",
              "</div>"
            ],
            "text/plain": [
              "           Tipo_do_dono  Quantidade_de_carros\n",
              "0           First Owner                  3520\n",
              "1          Second Owner                  1316\n",
              "2           Third Owner                   344\n",
              "3  Fourth & Above Owner                   102"
            ]
          },
          "metadata": {
            "tags": []
          },
          "execution_count": 514
        }
      ]
    },
    {
      "cell_type": "markdown",
      "metadata": {
        "id": "gaQ3J24O1iME"
      },
      "source": [
        "Gráfico"
      ]
    },
    {
      "cell_type": "code",
      "metadata": {
        "colab": {
          "base_uri": "https://localhost:8080/",
          "height": 489
        },
        "id": "aJVjFfvX1kER",
        "outputId": "7db1644f-335d-4475-b3f9-67aab413a409"
      },
      "source": [
        "#Vou mencionar ao seaborn quais sãos os parâmetros do eixo x e do eixo y\n",
        "\n",
        "sns.set(font_scale=1.4)\n",
        "\n",
        "sns.barplot(x = \"Tipo_do_dono\", y = \"Quantidade_de_carros\", data = dono)\n",
        "\n",
        "plt.xticks(rotation=90) #Girar em 80 graus o rótulo de x\n",
        "\n",
        "plt.xlabel(\"Tipo do dono\", labelpad=14)\n",
        "plt.ylabel(\"Quantidade de carros\", labelpad=14)\n",
        "plt.title(\"Quantidade de carros por tipo do dono\", y=1.02);"
      ],
      "execution_count": 515,
      "outputs": [
        {
          "output_type": "display_data",
          "data": {
            "image/png": "[encoded data removed]",
            "text/plain": [
              "<Figure size 432x288 with 1 Axes>"
            ]
          },
          "metadata": {
            "tags": []
          }
        }
      ]
    },
    {
      "cell_type": "markdown",
      "metadata": {
        "id": "dmMFgXGa3Yo6"
      },
      "source": [
        "#Conclusão prévia:\n",
        "\n",
        "- Há uma nítida queda na quantidade de carros a medida que aumenta a quantidade de donos para o respectivo carro."
      ]
    },
    {
      "cell_type": "markdown",
      "metadata": {
        "id": "D5nCUnXn5ge8"
      },
      "source": [
        "#_____________________________________\n",
        "#_____________________________________\n",
        "#_____________________________________\n",
        "#_____________________________________"
      ]
    },
    {
      "cell_type": "markdown",
      "metadata": {
        "id": "6wvqpvN131Bg"
      },
      "source": [
        "####Através de todas essas análises exploratórias e partindo da premissa de que o valor de venda do carro é relacionado aos seus atributos (hipótese central do estudo), eu posso explorar as seguintes perguntas:\n",
        "\n",
        "\n"
      ]
    },
    {
      "cell_type": "markdown",
      "metadata": {
        "id": "7g_NTkbq5Zpj"
      },
      "source": [
        "1 - O valor do carro está relacionado km rodado?\n",
        "\n",
        "2 - o valor do carro pode estar relacionado ao consumo de combustível?\n",
        "\n",
        "3 - o valor do carro pode estar relacionado as cilindradas do motor?\n",
        "\n",
        "4 - o valor do carro pode estar relacionado a potencia do motor?\n",
        "\n",
        "5 - o valor do carro pode estar relacionado a quantidade de assentos?"
      ]
    },
    {
      "cell_type": "markdown",
      "metadata": {
        "id": "0kHnYiF65qcT"
      },
      "source": [
        "####Para começar a investigar essas perguntas podemos utilizar o \"Scatterplot\""
      ]
    },
    {
      "cell_type": "markdown",
      "metadata": {
        "id": "jOKDelWa54oU"
      },
      "source": [
        "# # 1 - Preço de venda (y)    por  km_rodado (x) "
      ]
    },
    {
      "cell_type": "code",
      "metadata": {
        "colab": {
          "base_uri": "https://localhost:8080/",
          "height": 332
        },
        "id": "ZESfXwS8ZeNl",
        "outputId": "1734e443-9ad6-44b0-8c18-71ce26fb4600"
      },
      "source": [
        "#Scatterplot\n",
        "\n",
        "#Preço de venda (y)    por  km_rodado (x) \n",
        "\n",
        "y=carros.preco_de_venda_USD\n",
        "\n",
        "x=carros.km_rodado\n",
        "\n",
        "plt.scatter(x,y)\n",
        "\n",
        "plt.title(\"Scatterplot do preço de venda por km rodado\")\n",
        "\n",
        "plt.xlabel(\"km rodado\")\n",
        "\n",
        "plt.ylabel(\"Preço de venda (USD)\")"
      ],
      "execution_count": 517,
      "outputs": [
        {
          "output_type": "execute_result",
          "data": {
            "text/plain": [
              "Text(0, 0.5, 'Preço de venda (USD)')"
            ]
          },
          "metadata": {
            "tags": []
          },
          "execution_count": 517
        },
        {
          "output_type": "display_data",
          "data": {
            "image/png": "[encoded data removed]",
            "text/plain": [
              "<Figure size 432x288 with 1 Axes>"
            ]
          },
          "metadata": {
            "tags": []
          }
        }
      ]
    },
    {
      "cell_type": "markdown",
      "metadata": {
        "id": "GGjrAG8Y6Adf"
      },
      "source": [
        "# Conclusão prévia:\n",
        "\n",
        "- A medida que aumenta o km rodado há uma possível tendência de queda no preço de venda do veículo. "
      ]
    },
    {
      "cell_type": "markdown",
      "metadata": {
        "id": "VTmKPMFr6uXf"
      },
      "source": [
        "# 2 - Preço de venda (y)    por  consumo_do_combustivel_kmpl (x) "
      ]
    },
    {
      "cell_type": "code",
      "metadata": {
        "colab": {
          "base_uri": "https://localhost:8080/",
          "height": 332
        },
        "id": "HP8QGOFPbsJi",
        "outputId": "30da023a-3464-4c55-fb23-c31594e079f3"
      },
      "source": [
        "#Scatterplot\n",
        "\n",
        "#Preço de venda (y)    por  consumo_do_combustivel_kmpl (x) \n",
        "\n",
        "y=carros.preco_de_venda_USD\n",
        "\n",
        "x=carros.consumo_do_combustivel_kmpl\n",
        "\n",
        "plt.scatter(x,y)\n",
        "\n",
        "plt.title(\"Scatterplot do preço de venda por consumo de combustivel\")\n",
        "\n",
        "plt.xlabel(\"consumo de combustivel (kmpl)\")\n",
        "\n",
        "plt.ylabel(\"Preço de venda (USD)\")"
      ],
      "execution_count": 518,
      "outputs": [
        {
          "output_type": "execute_result",
          "data": {
            "text/plain": [
              "Text(0, 0.5, 'Preço de venda (USD)')"
            ]
          },
          "metadata": {
            "tags": []
          },
          "execution_count": 518
        },
        {
          "output_type": "display_data",
          "data": {
            "image/png": "[encoded data removed]",
            "text/plain": [
              "<Figure size 432x288 with 1 Axes>"
            ]
          },
          "metadata": {
            "tags": []
          }
        }
      ]
    },
    {
      "cell_type": "markdown",
      "metadata": {
        "id": "q_xFENAy7Hcb"
      },
      "source": [
        "#Conclusão prévia:\n",
        "\n",
        "- Há uma tendência de subida de preço de venda do veículo em níveis intermediários de consumo do combistível, e respectiva queda de preço em valores extremos de consumo de combustível."
      ]
    },
    {
      "cell_type": "markdown",
      "metadata": {
        "id": "w4IfvNJE8JrT"
      },
      "source": [
        "# 3 - Preço de venda (y)    por  motor_CC (x) "
      ]
    },
    {
      "cell_type": "code",
      "metadata": {
        "colab": {
          "base_uri": "https://localhost:8080/",
          "height": 332
        },
        "id": "EabT4yu0b92a",
        "outputId": "3318d267-85df-43bf-fba9-ae61173dad34"
      },
      "source": [
        "#Scatterplot\n",
        "\n",
        "#Preço de venda (y)    por  motor_CC (x) \n",
        "\n",
        "y=carros.preco_de_venda_USD\n",
        "\n",
        "x=carros.motor_CC\n",
        "\n",
        "plt.scatter(x,y)\n",
        "\n",
        "plt.title(\"Scatterplot do preço de venda por motor\")\n",
        "\n",
        "plt.xlabel(\"Motor (CC)\")\n",
        "\n",
        "plt.ylabel(\"Preço de venda (USD)\")"
      ],
      "execution_count": 519,
      "outputs": [
        {
          "output_type": "execute_result",
          "data": {
            "text/plain": [
              "Text(0, 0.5, 'Preço de venda (USD)')"
            ]
          },
          "metadata": {
            "tags": []
          },
          "execution_count": 519
        },
        {
          "output_type": "display_data",
          "data": {
            "image/png": "[encoded data removed]",
            "text/plain": [
              "<Figure size 432x288 with 1 Axes>"
            ]
          },
          "metadata": {
            "tags": []
          }
        }
      ]
    },
    {
      "cell_type": "markdown",
      "metadata": {
        "id": "xj_gqyUP8W7u"
      },
      "source": [
        "#Conclusão prévia:\n",
        "\n",
        "- Há uma possível tendência de aumento do valor do preço em níveis intermediários de cilindradas do motor, com respectiva queda em valores extremos de cilindradas."
      ]
    },
    {
      "cell_type": "markdown",
      "metadata": {
        "id": "_FG0b3Lw85Ye"
      },
      "source": [
        "# 4 - Preço de venda (y)    potencia_do_motor_bhp (x)"
      ]
    },
    {
      "cell_type": "code",
      "metadata": {
        "colab": {
          "base_uri": "https://localhost:8080/",
          "height": 333
        },
        "id": "nMz6O34gcS2Z",
        "outputId": "f44b4b89-cc84-4291-a6e6-f4119a3eccfd"
      },
      "source": [
        "#Scatterplot\n",
        "\n",
        "#Preço de venda (y)    potencia_do_motor_bhp (x) \n",
        "\n",
        "y=carros.preco_de_venda_USD\n",
        "\n",
        "x=carros.potencia_do_motor_bhp\n",
        "\n",
        "plt.scatter(x,y)\n",
        "\n",
        "plt.title(\"Scatterplot do preço de venda pela potência do motor bhp\")\n",
        "\n",
        "plt.xlabel(\"Potência do motor (bhp)\")\n",
        "\n",
        "plt.ylabel(\"Preço de venda (USD)\")"
      ],
      "execution_count": 521,
      "outputs": [
        {
          "output_type": "execute_result",
          "data": {
            "text/plain": [
              "Text(0, 0.5, 'Preço de venda (USD)')"
            ]
          },
          "metadata": {
            "tags": []
          },
          "execution_count": 521
        },
        {
          "output_type": "display_data",
          "data": {
            "image/png": "[encoded data removed]",
            "text/plain": [
              "<Figure size 432x288 with 1 Axes>"
            ]
          },
          "metadata": {
            "tags": []
          }
        }
      ]
    },
    {
      "cell_type": "markdown",
      "metadata": {
        "id": "t3rVQXH69N3H"
      },
      "source": [
        "#Conclusão prévia:\n",
        "\n",
        "- Há uma possibilidade de tendência de aumento no valor do veículo a medida que aumenta a potência do motor. "
      ]
    },
    {
      "cell_type": "markdown",
      "metadata": {
        "id": "dUAw5m2U9gjt"
      },
      "source": [
        "# 5 - Preço de venda (y)    assentos (x)"
      ]
    },
    {
      "cell_type": "code",
      "metadata": {
        "colab": {
          "base_uri": "https://localhost:8080/",
          "height": 340
        },
        "id": "0tGfQjT2ctmC",
        "outputId": "3e9300c7-eca4-4a45-ef1c-19a6a5bf3598"
      },
      "source": [
        "#Scatterplot\n",
        "\n",
        "#Preço de venda (y)    assentos (x) \n",
        "\n",
        "y=carros.preco_de_venda_USD\n",
        "\n",
        "x=carros.assentos\n",
        "\n",
        "plt.scatter(x,y)\n",
        "\n",
        "plt.title(\"Scatterplot do preço de venda de veículos por assentos\")\n",
        "\n",
        "plt.xlabel(\"Quantidade de assentos\")\n",
        "\n",
        "plt.ylabel(\"Preço de venda do veículo (USD)\")"
      ],
      "execution_count": 522,
      "outputs": [
        {
          "output_type": "execute_result",
          "data": {
            "text/plain": [
              "Text(0, 0.5, 'Preço de venda do veículo (USD)')"
            ]
          },
          "metadata": {
            "tags": []
          },
          "execution_count": 522
        },
        {
          "output_type": "display_data",
          "data": {
            "image/png": "[encoded data removed]",
            "text/plain": [
              "<Figure size 432x288 with 1 Axes>"
            ]
          },
          "metadata": {
            "tags": []
          }
        }
      ]
    },
    {
      "cell_type": "markdown",
      "metadata": {
        "id": "5JVi9b3C94Gj"
      },
      "source": [
        "#Conclusão prévia:\n",
        "\n",
        "- Todos os veículos aqui possuem o mesmo número de assentos. Assim, não é possível com esses dados inferir se há ou não influência da quantidade de assentos no preço de venda dos veículos."
      ]
    },
    {
      "cell_type": "markdown",
      "metadata": {
        "id": "zF878CU_arr-"
      },
      "source": [
        "#_____________________________________\n",
        "#_____________________________________\n",
        "#_____________________________________\n",
        "#_____________________________________"
      ]
    },
    {
      "cell_type": "code",
      "metadata": {
        "colab": {
          "base_uri": "https://localhost:8080/",
          "height": 312
        },
        "id": "7BVkePnSX2KR",
        "outputId": "328b2f88-bccd-4980-cbbb-2a6924027c64"
      },
      "source": [
        "#Boxplot de preço de venda por tipo de combustível \n",
        "\n",
        "sns.boxplot(x = \"tipo_combustivel\", y = \"preco_de_venda_USD\", data=carros)"
      ],
      "execution_count": 525,
      "outputs": [
        {
          "output_type": "execute_result",
          "data": {
            "text/plain": [
              "<matplotlib.axes._subplots.AxesSubplot at 0x7f6e804eb490>"
            ]
          },
          "metadata": {
            "tags": []
          },
          "execution_count": 525
        },
        {
          "output_type": "display_data",
          "data": {
            "image/png": "[encoded data removed]",
            "text/plain": [
              "<Figure size 432x288 with 1 Axes>"
            ]
          },
          "metadata": {
            "tags": []
          }
        }
      ]
    },
    {
      "cell_type": "code",
      "metadata": {
        "colab": {
          "base_uri": "https://localhost:8080/",
          "height": 430
        },
        "id": "pa9lVdusdREp",
        "outputId": "3cc7444b-1bd7-4d07-9876-8a1fe687c349"
      },
      "source": [
        "# tipo_do_vendedor\n",
        "\n",
        "#Boxplot de preço de venda por tipo_do_vendedor\n",
        "\n",
        "sns.boxplot(x = \"tipo_do_vendedor\", y = \"preco_de_venda_USD\", data=carros)\n",
        "\n",
        "plt.xticks(rotation=90) #Girar em 80 graus o rótulo de x"
      ],
      "execution_count": 535,
      "outputs": [
        {
          "output_type": "execute_result",
          "data": {
            "text/plain": [
              "(array([0, 1, 2]), <a list of 3 Text major ticklabel objects>)"
            ]
          },
          "metadata": {
            "tags": []
          },
          "execution_count": 535
        },
        {
          "output_type": "display_data",
          "data": {
            "image/png": "[encoded data removed]",
            "text/plain": [
              "<Figure size 432x288 with 1 Axes>"
            ]
          },
          "metadata": {
            "tags": []
          }
        }
      ]
    },
    {
      "cell_type": "code",
      "metadata": {
        "colab": {
          "base_uri": "https://localhost:8080/",
          "height": 312
        },
        "id": "8oVWPcxYd9Z4",
        "outputId": "702c2d13-4fc6-410e-a512-a9c36a0d7629"
      },
      "source": [
        "# transmissao \n",
        "\n",
        "#Boxplot de preço de venda por transmissao \n",
        "\n",
        "sns.boxplot(x = \"transmissao\", y = \"preco_de_venda_USD\", data=carros)"
      ],
      "execution_count": 527,
      "outputs": [
        {
          "output_type": "execute_result",
          "data": {
            "text/plain": [
              "<matplotlib.axes._subplots.AxesSubplot at 0x7f6e803f8f50>"
            ]
          },
          "metadata": {
            "tags": []
          },
          "execution_count": 527
        },
        {
          "output_type": "display_data",
          "data": {
            "image/png": "[encoded data removed]",
            "text/plain": [
              "<Figure size 432x288 with 1 Axes>"
            ]
          },
          "metadata": {
            "tags": []
          }
        }
      ]
    },
    {
      "cell_type": "code",
      "metadata": {
        "colab": {
          "base_uri": "https://localhost:8080/",
          "height": 472
        },
        "id": "6oN5M8jleTT2",
        "outputId": "9e0aa020-7386-4471-8549-90f33ccd3fa7"
      },
      "source": [
        "# dono \n",
        "\n",
        "# Boxplot de preço de venda por dono \n",
        "\n",
        "sns.boxplot(x = \"dono\", y = \"preco_de_venda_USD\", data=carros)\n",
        "\n",
        "plt.xticks(rotation=90) #Girar em 80 graus o rótulo de x"
      ],
      "execution_count": 534,
      "outputs": [
        {
          "output_type": "execute_result",
          "data": {
            "text/plain": [
              "(array([0, 1, 2, 3]), <a list of 4 Text major ticklabel objects>)"
            ]
          },
          "metadata": {
            "tags": []
          },
          "execution_count": 534
        },
        {
          "output_type": "display_data",
          "data": {
            "image/png": "[encoded data removed]",
            "text/plain": [
              "<Figure size 432x288 with 1 Axes>"
            ]
          },
          "metadata": {
            "tags": []
          }
        }
      ]
    },
    {
      "cell_type": "markdown",
      "metadata": {
        "id": "HIpLDcXTh3CK"
      },
      "source": [
        "# Groupby()"
      ]
    },
    {
      "cell_type": "code",
      "metadata": {
        "colab": {
          "base_uri": "https://localhost:8080/",
          "height": 295
        },
        "id": "allt6R-_h7yf",
        "outputId": "896b1b0c-bd45-4058-b518-fd3cd152c76b"
      },
      "source": [
        "carros_teste = carros[[\"transmissao\", \"dono\", \"preco_de_venda_USD\"]]\n",
        "\n",
        "carros_grp = carros_teste.groupby([\"transmissao\", \"dono\"], as_index=False).mean()\n",
        "\n",
        "carros_grp"
      ],
      "execution_count": 529,
      "outputs": [
        {
          "output_type": "execute_result",
          "data": {
            "text/html": [
              "<div>\n",
              "<style scoped>\n",
              "    .dataframe tbody tr th:only-of-type {\n",
              "        vertical-align: middle;\n",
              "    }\n",
              "\n",
              "    .dataframe tbody tr th {\n",
              "        vertical-align: top;\n",
              "    }\n",
              "\n",
              "    .dataframe thead th {\n",
              "        text-align: right;\n",
              "    }\n",
              "</style>\n",
              "<table border=\"1\" class=\"dataframe\">\n",
              "  <thead>\n",
              "    <tr style=\"text-align: right;\">\n",
              "      <th></th>\n",
              "      <th>transmissao</th>\n",
              "      <th>dono</th>\n",
              "      <th>preco_de_venda_USD</th>\n",
              "    </tr>\n",
              "  </thead>\n",
              "  <tbody>\n",
              "    <tr>\n",
              "      <th>0</th>\n",
              "      <td>Automatic</td>\n",
              "      <td>First Owner</td>\n",
              "      <td>9088.172719</td>\n",
              "    </tr>\n",
              "    <tr>\n",
              "      <th>1</th>\n",
              "      <td>Automatic</td>\n",
              "      <td>Fourth &amp; Above Owner</td>\n",
              "      <td>4458.904110</td>\n",
              "    </tr>\n",
              "    <tr>\n",
              "      <th>2</th>\n",
              "      <td>Automatic</td>\n",
              "      <td>Second Owner</td>\n",
              "      <td>5805.478669</td>\n",
              "    </tr>\n",
              "    <tr>\n",
              "      <th>3</th>\n",
              "      <td>Automatic</td>\n",
              "      <td>Third Owner</td>\n",
              "      <td>3436.397260</td>\n",
              "    </tr>\n",
              "    <tr>\n",
              "      <th>4</th>\n",
              "      <td>Manual</td>\n",
              "      <td>First Owner</td>\n",
              "      <td>6478.940908</td>\n",
              "    </tr>\n",
              "    <tr>\n",
              "      <th>5</th>\n",
              "      <td>Manual</td>\n",
              "      <td>Fourth &amp; Above Owner</td>\n",
              "      <td>2693.667179</td>\n",
              "    </tr>\n",
              "    <tr>\n",
              "      <th>6</th>\n",
              "      <td>Manual</td>\n",
              "      <td>Second Owner</td>\n",
              "      <td>4108.404703</td>\n",
              "    </tr>\n",
              "    <tr>\n",
              "      <th>7</th>\n",
              "      <td>Manual</td>\n",
              "      <td>Third Owner</td>\n",
              "      <td>3139.994919</td>\n",
              "    </tr>\n",
              "  </tbody>\n",
              "</table>\n",
              "</div>"
            ],
            "text/plain": [
              "  transmissao                  dono  preco_de_venda_USD\n",
              "0   Automatic           First Owner         9088.172719\n",
              "1   Automatic  Fourth & Above Owner         4458.904110\n",
              "2   Automatic          Second Owner         5805.478669\n",
              "3   Automatic           Third Owner         3436.397260\n",
              "4      Manual           First Owner         6478.940908\n",
              "5      Manual  Fourth & Above Owner         2693.667179\n",
              "6      Manual          Second Owner         4108.404703\n",
              "7      Manual           Third Owner         3139.994919"
            ]
          },
          "metadata": {
            "tags": []
          },
          "execution_count": 529
        }
      ]
    },
    {
      "cell_type": "markdown",
      "metadata": {
        "id": "BTEbl32ai20d"
      },
      "source": [
        "# Pandas method - Pivot()"
      ]
    },
    {
      "cell_type": "code",
      "metadata": {
        "colab": {
          "base_uri": "https://localhost:8080/",
          "height": 172
        },
        "id": "EAsaVjN2i_E8",
        "outputId": "94c32df1-c1b7-460f-8d7d-fbcce7da35c5"
      },
      "source": [
        "carros_pivot = carros_grp.pivot(index = \"transmissao\", columns = \"dono\")\n",
        "\n",
        "carros_pivot"
      ],
      "execution_count": 530,
      "outputs": [
        {
          "output_type": "execute_result",
          "data": {
            "text/html": [
              "<div>\n",
              "<style scoped>\n",
              "    .dataframe tbody tr th:only-of-type {\n",
              "        vertical-align: middle;\n",
              "    }\n",
              "\n",
              "    .dataframe tbody tr th {\n",
              "        vertical-align: top;\n",
              "    }\n",
              "\n",
              "    .dataframe thead tr th {\n",
              "        text-align: left;\n",
              "    }\n",
              "\n",
              "    .dataframe thead tr:last-of-type th {\n",
              "        text-align: right;\n",
              "    }\n",
              "</style>\n",
              "<table border=\"1\" class=\"dataframe\">\n",
              "  <thead>\n",
              "    <tr>\n",
              "      <th></th>\n",
              "      <th colspan=\"4\" halign=\"left\">preco_de_venda_USD</th>\n",
              "    </tr>\n",
              "    <tr>\n",
              "      <th>dono</th>\n",
              "      <th>First Owner</th>\n",
              "      <th>Fourth &amp; Above Owner</th>\n",
              "      <th>Second Owner</th>\n",
              "      <th>Third Owner</th>\n",
              "    </tr>\n",
              "    <tr>\n",
              "      <th>transmissao</th>\n",
              "      <th></th>\n",
              "      <th></th>\n",
              "      <th></th>\n",
              "      <th></th>\n",
              "    </tr>\n",
              "  </thead>\n",
              "  <tbody>\n",
              "    <tr>\n",
              "      <th>Automatic</th>\n",
              "      <td>9088.172719</td>\n",
              "      <td>4458.904110</td>\n",
              "      <td>5805.478669</td>\n",
              "      <td>3436.397260</td>\n",
              "    </tr>\n",
              "    <tr>\n",
              "      <th>Manual</th>\n",
              "      <td>6478.940908</td>\n",
              "      <td>2693.667179</td>\n",
              "      <td>4108.404703</td>\n",
              "      <td>3139.994919</td>\n",
              "    </tr>\n",
              "  </tbody>\n",
              "</table>\n",
              "</div>"
            ],
            "text/plain": [
              "            preco_de_venda_USD                                               \n",
              "dono               First Owner Fourth & Above Owner Second Owner  Third Owner\n",
              "transmissao                                                                  \n",
              "Automatic          9088.172719          4458.904110  5805.478669  3436.397260\n",
              "Manual             6478.940908          2693.667179  4108.404703  3139.994919"
            ]
          },
          "metadata": {
            "tags": []
          },
          "execution_count": 530
        }
      ]
    },
    {
      "cell_type": "markdown",
      "metadata": {
        "id": "aXBI92ZwjdeL"
      },
      "source": [
        "# Heatmap"
      ]
    },
    {
      "cell_type": "code",
      "metadata": {
        "colab": {
          "base_uri": "https://localhost:8080/",
          "height": 279
        },
        "id": "9TMtM-wmjhXi",
        "outputId": "5963fefa-26fe-46e6-dfca-8ef78f3320b1"
      },
      "source": [
        "plt.pcolor(carros_pivot, cmap=\"RdBu\")\n",
        "\n",
        "plt.colorbar()\n",
        "\n",
        "plt.show()"
      ],
      "execution_count": 531,
      "outputs": [
        {
          "output_type": "display_data",
          "data": {
            "image/png": "[encoded data removed]",
            "text/plain": [
              "<Figure size 432x288 with 2 Axes>"
            ]
          },
          "metadata": {
            "tags": []
          }
        }
      ]
    },
    {
      "cell_type": "markdown",
      "metadata": {
        "id": "g3m9xA6LjZWM"
      },
      "source": [
        "# ANOVA"
      ]
    },
    {
      "cell_type": "code",
      "metadata": {
        "colab": {
          "base_uri": "https://localhost:8080/"
        },
        "id": "cnTsq6oaqHx6",
        "outputId": "9b3f2e68-03e1-4426-fc94-f3f68340ed7e"
      },
      "source": [
        "# Preço de venda por tipo de combustível \n",
        "\n",
        "import scipy.stats as stats\n",
        "\n",
        "carros_anova = carros[[\"tipo_combustivel\", \"preco_de_venda_USD\"]]\n",
        "                      \n",
        "grouped_anova = carros_anova.groupby([\"tipo_combustivel\"])\n",
        "\n",
        "grouped_anova                      \n"
      ],
      "execution_count": 532,
      "outputs": [
        {
          "output_type": "execute_result",
          "data": {
            "text/plain": [
              "<pandas.core.groupby.generic.DataFrameGroupBy object at 0x7f6e801ed050>"
            ]
          },
          "metadata": {
            "tags": []
          },
          "execution_count": 532
        }
      ]
    },
    {
      "cell_type": "code",
      "metadata": {
        "colab": {
          "base_uri": "https://localhost:8080/"
        },
        "id": "CGye3pd8rBca",
        "outputId": "20051d00-ef1b-458b-8310-77e0233bf73f"
      },
      "source": [
        "anova_results_1 = stats.f_oneway(grouped_anova.get_group(\"Diesel\") [\"preco_de_venda_USD\"]), (grouped_anova.get_group(\"Petrol\") [\"preco_de_venda_USD\"])\n",
        "\n",
        "anova_results_1"
      ],
      "execution_count": 533,
      "outputs": [
        {
          "output_type": "stream",
          "text": [
            "/usr/local/lib/python3.7/dist-packages/scipy/stats/stats.py:3347: RuntimeWarning: invalid value encountered in double_scalars\n",
            "  msb = ssbn / dfbn\n"
          ],
          "name": "stderr"
        },
        {
          "output_type": "execute_result",
          "data": {
            "text/plain": [
              "(F_onewayResult(statistic=nan, pvalue=nan), 2       2164.383562\n",
              " 4       1780.821918\n",
              " 5       6027.397260\n",
              " 10      1260.273973\n",
              " 12      2465.753425\n",
              "            ...     \n",
              " 7809    5205.479452\n",
              " 7810    4931.506849\n",
              " 7811    1643.835616\n",
              " 7812    3561.643836\n",
              " 7814    4383.561644\n",
              " Name: preco_de_venda_USD, Length: 2989, dtype: float64)"
            ]
          },
          "metadata": {
            "tags": []
          },
          "execution_count": 533
        }
      ]
    },
    {
      "cell_type": "markdown",
      "metadata": {
        "id": "9ujsZmt2DI7u"
      },
      "source": [
        "#Autor:\n"
      ]
    },
    {
      "cell_type": "markdown",
      "metadata": {
        "id": "S4cqm1fuqRZE"
      },
      "source": [
        "### - Lucas Andrei Campos-Silva\n",
        "\n",
        "- link para meu portifólio de projetos em Data Science: https://github.com/Campos-Silva \n",
        "- e-mail para contato: andrei.10@hotmail.com\n",
        "- linkedIn: https://www.linkedin.com/in/lucas-andrei-campos-silva/\n",
        "\n",
        "\n"
      ]
    }
  ]
}